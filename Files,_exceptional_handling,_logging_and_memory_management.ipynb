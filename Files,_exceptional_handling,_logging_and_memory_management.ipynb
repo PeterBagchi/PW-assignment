{
  "nbformat": 4,
  "nbformat_minor": 0,
  "metadata": {
    "colab": {
      "provenance": [],
      "authorship_tag": "ABX9TyMfw31qbFhMp6MFcCIbuoc5",
      "include_colab_link": true
    },
    "kernelspec": {
      "name": "python3",
      "display_name": "Python 3"
    },
    "language_info": {
      "name": "python"
    }
  },
  "cells": [
    {
      "cell_type": "markdown",
      "metadata": {
        "id": "view-in-github",
        "colab_type": "text"
      },
      "source": [
        "<a href=\"https://colab.research.google.com/github/PeterBagchi/PW-assignment/blob/main/Files%2C_exceptional_handling%2C_logging_and_memory_management.ipynb\" target=\"_parent\"><img src=\"https://colab.research.google.com/assets/colab-badge.svg\" alt=\"Open In Colab\"/></a>"
      ]
    },
    {
      "cell_type": "markdown",
      "source": [
        "# **Files, exceptional handling, logging and memory management Questions**"
      ],
      "metadata": {
        "id": "YfJLA7u6wHd_"
      }
    },
    {
      "cell_type": "markdown",
      "source": [
        "1. What is the difference between interpreted and compiled languages?\n",
        "\n",
        "   Answer: Interpreted languages are executed line-by-line by an interpreter at runtime (e.g., Python), while compiled languages are translated into machine code by a compiler before execution (e.g., C); compiled code usually runs faster and has a separate build step, whereas interpreted code is more portable and easier to test interactively.\n",
        "   \n",
        "2. What is exception handling in Python?\n",
        "\n",
        "   Answer: Exception handling in Python is the mechanism to catch and respond to runtime errors using try, except, else, and finally blocks so the program can handle errors gracefully instead of crashing.\n",
        "3. What is the purpose of the finally block in exception handling?\n",
        "\n",
        "   Answer: The finally block always executes after try/except (whether an exception occurred or not) and is used for cleanup actions like closing files or releasing resources.\n",
        "4. What is logging in Python?\n",
        "\n",
        "\n",
        "   Answer: Logging in Python is recording runtime information (messages, errors, warnings) to a configurable output (console, file, etc.) using the logging module to help with debugging and auditing.\n",
        "5. What is the significance of the __del__ method in Python?\n",
        "\n",
        "   Answer: The __del__ method is a destructor called when an object is about to be garbage-collected; it can be used for cleanup but its execution timing is not guaranteed and its use is generally discouraged.\n",
        "6. What is the difference between import and from ... import in Python?\n",
        "\n",
        "   Answer: The difference: import module imports the whole module and requires module.name to access members; from module import name imports specific members into the current namespace so you can use them directly.\n",
        "\n",
        "7. How can you handle multiple exceptions in Python?\n",
        "   Answer: You can handle multiple exceptions by specifying multiple except blocks for different exception types, or using a single except tuple like except (TypeError, ValueError): to handle several exceptions together.\n",
        "8. What is the purpose of the with statement when handling files in Python?\n",
        "\n",
        "   Answer: The with statement (context manager) ensures resources like files are properly acquired and released; when the block exits it automatically closes the file even if an exception occurs.\n",
        "9. What is the difference between multithreading and multiprocessing?\n",
        "\n",
        "   Answer: Multithreading runs multiple threads within the same process sharing memory (good for I/O-bound tasks); multiprocessing uses separate processes with independent memory (better for CPU-bound tasks and true parallelism).\n",
        "10. What are the advantages of using logging in a program?\n",
        "\n",
        "    Answer: Advantages of logging: persistent record of events, easier debugging, configurable verbosity, centralized error tracking, and safer than printing to stdout for production systems.\n",
        "\n",
        "11. What is memory management in Python?\n",
        "\n",
        "     Answer: Memory management in Python is the process of allocating and freeing memory automatically for objects, primarily handled by reference counting and a cyclic garbage collector.\n",
        "\n",
        "12. What are the basic steps involved in exception handling in Python?\n",
        "\n",
        "    Answer: Basic steps in exception handling: identify risky code, wrap in try block, catch exceptions in except blocks, optionally use else for non-error path, and use finally for cleanup.\n",
        "\n",
        "13. Why is memory management important in Python?\n",
        "\n",
        "    Answer: Memory management is important to avoid leaks, ensure efficient use of resources, maintain performance, and prevent crashes due to exhaustion of memory.\n",
        "\n",
        "14. What is the role of try and except in exception handling?\n",
        "\n",
        "     Answer: try contains the code that may raise an exception; except catches and handles specific exceptions so the program can continue or exit gracefully.\n",
        "\n",
        "15. How does Python's garbage collection system work?\n",
        "\n",
        "    Answer: Python’s garbage collection uses reference counting to immediately free objects with zero references and a cyclic garbage collector to detect and collect reference cycles that reference counting alone can't free.\n",
        "\n",
        "16. What is the purpose of the else block in exception handling?\n",
        "\n",
        "     Answer: The else block runs if the try block completes without raising an exception; it’s useful for code that should run only when no exceptions occurred.\n",
        "\n",
        "17. What are the common logging levels in Python?\n",
        "\n",
        "    Answer: Common logging levels: DEBUG, INFO, WARNING, ERROR, and CRITICAL.\n",
        "\n",
        "18. What is the difference between os.fork() and multiprocessing in Python?\n",
        "\n",
        "    Answer: os.fork() creates a new child process by duplicating the current process (Unix only) and returns in both; multiprocessing module provides a cross-platform API to spawn processes and manage inter-process communication more safely and portably.\n",
        "\n",
        "19. What is the importance of closing a file in Python?\n",
        "\n",
        "    Answer: Closing a file flushes buffers and releases system resources; failing to close can lead to data loss, resource leaks, or hitting file descriptor limits.\n",
        "20. What is the difference between file.read() and file.readline() in Python?\n",
        "\n",
        "    Answer: file.read() reads the entire file (or a specified number of bytes) into memory; file.readline() reads one line at a time—useful for processing large files line by line.\n",
        "\n",
        "21. What is the logging module in Python used for?\n",
        "\n",
        "    Answer: The logging module provides flexible facilities to log messages from Python programs, including handlers, formatters, and configurable log levels.\n",
        "\n",
        "22. What is the os module in Python used for in file handling?\n",
        "\n",
        "    Answer: The os module provides functions for interacting with the operating system—file and directory operations, checking file existence, permissions, and path manipulation—useful in file handling tasks.\n",
        "\n",
        "23. What are the challenges associated with memory management in Python?\n",
        "\n",
        "    Answer: Challenges in memory management: memory leaks from lingering references, large data structures consuming RAM, fragmentation, and managing memory in long-running processes.\n",
        "\n",
        "24. How do you raise an exception manually in Python?\n",
        "\n",
        "    Answer: Raise an exception manually using the raise statement, e.g., raise ValueError('message') to signal an error condition.\n",
        "\n",
        "25. Why is it important to use multithreading in certain applications?\n",
        "\n",
        "    Answer: Multithreading is important for applications that perform many I/O-bound operations (networking, disk I/O, UI responsiveness) because threads can run while one thread is waiting, improving throughput and responsiveness.\n",
        "\n"
      ],
      "metadata": {
        "id": "OYE3BapNs16D"
      }
    },
    {
      "cell_type": "markdown",
      "source": [
        "# **Practical Questions**"
      ],
      "metadata": {
        "id": "bpaXSu7pxDaw"
      }
    },
    {
      "cell_type": "markdown",
      "source": [
        "1. How can you open a file for writing in Python and write a string to it?\n"
      ],
      "metadata": {
        "id": "ZjE6XEhAzKWA"
      }
    },
    {
      "cell_type": "code",
      "metadata": {
        "colab": {
          "base_uri": "https://localhost:8080/"
        },
        "id": "da020c47",
        "outputId": "e90692c6-ec34-474e-b534-3537ae6c9ca1"
      },
      "source": [
        "file_path = 'my_output_file.txt'\n",
        "content_to_write = \"This is a string that will be written to the file.\"\n",
        "\n",
        "with open(file_path, 'w') as f:\n",
        "  f.write(content_to_write)\n",
        "\n",
        "print(f\"Content written to '{file_path}'\")"
      ],
      "execution_count": 27,
      "outputs": [
        {
          "output_type": "stream",
          "name": "stdout",
          "text": [
            "Content written to 'my_output_file.txt'\n"
          ]
        }
      ]
    },
    {
      "cell_type": "markdown",
      "source": [
        "2. Write a Python program to read the contents of a file and print each line.\n"
      ],
      "metadata": {
        "id": "fV-HHBxxzKKN"
      }
    },
    {
      "cell_type": "code",
      "metadata": {
        "colab": {
          "base_uri": "https://localhost:8080/"
        },
        "id": "d47aa0c3",
        "outputId": "6aff031b-4840-40ad-ccad-32f03db13f9e"
      },
      "source": [
        "\n",
        "# First, create a sample file to read from\n",
        "sample_file_path = 'sample_read_file.txt'\n",
        "sample_content = \"Line 1\\nLine 2\\nLine 3\\n\"\n",
        "with open(sample_file_path, 'w') as f:\n",
        "    f.write(sample_content)\n",
        "\n",
        "# Now, read and print each line\n",
        "try:\n",
        "    with open(sample_file_path, 'r') as f:\n",
        "        for line in f:\n",
        "            print(line.strip())\n",
        "except FileNotFoundError:\n",
        "    print(f\"Error: The file '{sample_file_path}' was not found.\")"
      ],
      "execution_count": 28,
      "outputs": [
        {
          "output_type": "stream",
          "name": "stdout",
          "text": [
            "Line 1\n",
            "Line 2\n",
            "Line 3\n"
          ]
        }
      ]
    },
    {
      "cell_type": "markdown",
      "source": [
        "3. How would you handle a case where the file doesn't exist while trying to open it for reading?\n",
        "\n"
      ],
      "metadata": {
        "id": "WR4BoWUAzKBG"
      }
    },
    {
      "cell_type": "code",
      "metadata": {
        "colab": {
          "base_uri": "https://localhost:8080/"
        },
        "id": "6e8e211f",
        "outputId": "94f569d8-e690-4ec5-e5cc-b161acf665c7"
      },
      "source": [
        "non_existent_file = 'non_existent_file.txt'\n",
        "\n",
        "try:\n",
        "    with open(non_existent_file, 'r') as f:\n",
        "        content = f.read()\n",
        "        print(content)\n",
        "except FileNotFoundError:\n",
        "    print(f\"Successfully handled: The file '{non_existent_file}' does not exist.\")\n",
        "except Exception as e:\n",
        "    print(f\"An unexpected error occurred: {e}\")"
      ],
      "execution_count": 29,
      "outputs": [
        {
          "output_type": "stream",
          "name": "stdout",
          "text": [
            "Successfully handled: The file 'non_existent_file.txt' does not exist.\n"
          ]
        }
      ]
    },
    {
      "cell_type": "markdown",
      "source": [
        "4. Write a Python script that reads from one file and writes its content to another file.\n"
      ],
      "metadata": {
        "id": "flZkSnvczJ3x"
      }
    },
    {
      "cell_type": "code",
      "metadata": {
        "colab": {
          "base_uri": "https://localhost:8080/"
        },
        "id": "2fa698af",
        "outputId": "fcf9d06e-087e-4d6f-9d96-9f42062950bb"
      },
      "source": [
        "# Create a source file\n",
        "source_file = 'source.txt'\n",
        "target_file = 'target.txt'\n",
        "source_content = \"This is the content from the source file.\"\n",
        "with open(source_file, 'w') as f:\n",
        "    f.write(source_content)\n",
        "\n",
        "try:\n",
        "    with open(source_file, 'r') as infile:\n",
        "        content = infile.read()\n",
        "\n",
        "    with open(target_file, 'w') as outfile:\n",
        "        outfile.write(content)\n",
        "\n",
        "    print(f\"Content from '{source_file}' copied to '{target_file}'.\")\n",
        "\n",
        "except FileNotFoundError:\n",
        "    print(f\"Error: Source file '{source_file}' not found.\")\n",
        "except Exception as e:\n",
        "    print(f\"An error occurred: {e}\")"
      ],
      "execution_count": 30,
      "outputs": [
        {
          "output_type": "stream",
          "name": "stdout",
          "text": [
            "Content from 'source.txt' copied to 'target.txt'.\n"
          ]
        }
      ]
    },
    {
      "cell_type": "markdown",
      "source": [
        "5. How would you catch and handle division by zero error in Python?"
      ],
      "metadata": {
        "id": "VMDut09mzJrD"
      }
    },
    {
      "cell_type": "code",
      "metadata": {
        "colab": {
          "base_uri": "https://localhost:8080/"
        },
        "id": "b1fbc366",
        "outputId": "e38690a0-8a33-426e-c441-d5ebd7f590e4"
      },
      "source": [
        "def safe_division(numerator, denominator):\n",
        "    try:\n",
        "        result = numerator / denominator\n",
        "        return result\n",
        "    except ZeroDivisionError:\n",
        "        print(\"Error: Cannot divide by zero.\")\n",
        "        return None\n",
        "\n",
        "# Example usage\n",
        "print(safe_division(10, 2))\n",
        "print(safe_division(5, 0))\n",
        "print(safe_division(20, 4))"
      ],
      "execution_count": 31,
      "outputs": [
        {
          "output_type": "stream",
          "name": "stdout",
          "text": [
            "5.0\n",
            "Error: Cannot divide by zero.\n",
            "None\n",
            "5.0\n"
          ]
        }
      ]
    },
    {
      "cell_type": "markdown",
      "source": [
        "6. Write a Python program that logs an error message to a log file when a division by zero exception occurs.\n"
      ],
      "metadata": {
        "id": "-Pw3LYSA0LK7"
      }
    },
    {
      "cell_type": "code",
      "metadata": {
        "colab": {
          "base_uri": "https://localhost:8080/"
        },
        "id": "3b7fbd89",
        "outputId": "c906c6b8-ef87-4d49-96c9-3a64277dee05"
      },
      "source": [
        "import logging\n",
        "\n",
        "# Configure logging\n",
        "log_file = 'division_errors.log'\n",
        "logging.basicConfig(filename=log_file, level=logging.ERROR,\n",
        "                    format='%(asctime)s - %(levelname)s - %(message)s')\n",
        "\n",
        "def safe_division_with_logging(numerator, denominator):\n",
        "    try:\n",
        "        result = numerator / denominator\n",
        "        return result\n",
        "    except ZeroDivisionError:\n",
        "        error_message = f\"Attempted to divide {numerator} by zero.\"\n",
        "        logging.error(error_message)\n",
        "        print(f\"Error: Cannot divide by zero. Details logged to '{log_file}'.\")\n",
        "        return None\n",
        "\n",
        "# Example usage\n",
        "print(safe_division_with_logging(10, 2))\n",
        "print(safe_division_with_logging(5, 0))\n",
        "print(safe_division_with_logging(20, 4))"
      ],
      "execution_count": 32,
      "outputs": [
        {
          "output_type": "stream",
          "name": "stderr",
          "text": [
            "ERROR:root:Attempted to divide 5 by zero.\n"
          ]
        },
        {
          "output_type": "stream",
          "name": "stdout",
          "text": [
            "5.0\n",
            "Error: Cannot divide by zero. Details logged to 'division_errors.log'.\n",
            "None\n",
            "5.0\n"
          ]
        }
      ]
    },
    {
      "cell_type": "markdown",
      "source": [
        "7. How do you log information at different levels (INFO, ERROR, WARNING) in Python using the logging module?\n"
      ],
      "metadata": {
        "id": "4jZ83oPs0K6t"
      }
    },
    {
      "cell_type": "code",
      "metadata": {
        "colab": {
          "base_uri": "https://localhost:8080/"
        },
        "id": "cc3948ec",
        "outputId": "26c4c770-32ad-4a4b-cc20-76e602ae8d91"
      },
      "source": [
        "import logging\n",
        "\n",
        "# Configure logging to console\n",
        "logging.basicConfig(level=logging.DEBUG, format='%(asctime)s - %(levelname)s - %(message)s')\n",
        "\n",
        "logging.debug('This is a debug message.')\n",
        "logging.info('This is an informational message.')\n",
        "logging.warning('This is a warning message.')\n",
        "logging.error('This is an error message.')\n",
        "logging.critical('This is a critical message.')"
      ],
      "execution_count": 33,
      "outputs": [
        {
          "output_type": "stream",
          "name": "stderr",
          "text": [
            "WARNING:root:This is a warning message.\n",
            "ERROR:root:This is an error message.\n",
            "CRITICAL:root:This is a critical message.\n"
          ]
        }
      ]
    },
    {
      "cell_type": "markdown",
      "source": [
        "8. Write a program to handle a file opening error using exception handling.\n"
      ],
      "metadata": {
        "id": "ULr6tXHL0KyB"
      }
    },
    {
      "cell_type": "code",
      "metadata": {
        "colab": {
          "base_uri": "https://localhost:8080/"
        },
        "id": "b9bddbac",
        "outputId": "2453f620-f4bf-45fb-ccc3-073070411d80"
      },
      "source": [
        "\n",
        "def read_file_safely(file_path):\n",
        "    try:\n",
        "        with open(file_path, 'r') as f:\n",
        "            content = f.read()\n",
        "            print(f\"File content:\\n{content}\")\n",
        "    except FileNotFoundError:\n",
        "        print(f\"Error: The file '{file_path}' was not found.\")\n",
        "    except IOError as e:\n",
        "        print(f\"Error opening or reading file '{file_path}': {e}\")\n",
        "    except Exception as e:\n",
        "        print(f\"An unexpected error occurred: {e}\")\n",
        "\n",
        "# Example usage\n",
        "read_file_safely('existing_file.txt') # Replace with an actual existing file path if needed\n",
        "read_file_safely('non_existent_file_for_error_handling.txt')"
      ],
      "execution_count": 34,
      "outputs": [
        {
          "output_type": "stream",
          "name": "stdout",
          "text": [
            "Error: The file 'existing_file.txt' was not found.\n",
            "Error: The file 'non_existent_file_for_error_handling.txt' was not found.\n"
          ]
        }
      ]
    },
    {
      "cell_type": "markdown",
      "source": [
        "9. How can you read a file line by line and store its content in a list in Python?\n"
      ],
      "metadata": {
        "id": "zHMnLmQH0Kp5"
      }
    },
    {
      "cell_type": "code",
      "metadata": {
        "colab": {
          "base_uri": "https://localhost:8080/"
        },
        "id": "016e3a3a",
        "outputId": "0629f393-fbe5-44f8-86d8-f7f75ff5abc4"
      },
      "source": [
        "\n",
        "def read_file_to_list(file_path):\n",
        "    lines = []\n",
        "    try:\n",
        "        with open(file_path, 'r') as f:\n",
        "            for line in f:\n",
        "                lines.append(line.strip()) # .strip() removes leading/trailing whitespace including newline characters\n",
        "        return lines\n",
        "    except FileNotFoundError:\n",
        "        print(f\"Error: The file '{file_path}' was not found.\")\n",
        "        return None\n",
        "    except Exception as e:\n",
        "        print(f\"An error occurred: {e}\")\n",
        "        return None\n",
        "\n",
        "# Create a sample file\n",
        "sample_list_file = 'sample_list_file.txt'\n",
        "sample_content_list = [\"Apple\", \"Banana\", \"Cherry\", \"Date\"]\n",
        "with open(sample_list_file, 'w') as f:\n",
        "    for item in sample_content_list:\n",
        "        f.write(item + '\\n')\n",
        "\n",
        "# Example usage\n",
        "file_lines = read_file_to_list(sample_list_file)\n",
        "if file_lines:\n",
        "    print(f\"Content of '{sample_list_file}' as a list: {file_lines}\")\n",
        "\n",
        "non_existent_list_file = 'non_existent_list_file.txt'\n",
        "read_file_to_list(non_existent_list_file)"
      ],
      "execution_count": 35,
      "outputs": [
        {
          "output_type": "stream",
          "name": "stdout",
          "text": [
            "Content of 'sample_list_file.txt' as a list: ['Apple', 'Banana', 'Cherry', 'Date']\n",
            "Error: The file 'non_existent_list_file.txt' was not found.\n"
          ]
        }
      ]
    },
    {
      "cell_type": "markdown",
      "source": [
        "10. How can you append data to an existing file in Python?\n",
        "\n"
      ],
      "metadata": {
        "id": "MFSjaVg-0Kgn"
      }
    },
    {
      "cell_type": "code",
      "metadata": {
        "colab": {
          "base_uri": "https://localhost:8080/"
        },
        "id": "44d6be0d",
        "outputId": "88adbab3-ed33-492a-e4d9-c27530d888e2"
      },
      "source": [
        "\n",
        "def append_to_file(file_path, data_to_append):\n",
        "    try:\n",
        "        with open(file_path, 'a') as f: # 'a' mode is for appending\n",
        "            f.write(data_to_append)\n",
        "        print(f\"Appended data to '{file_path}'\")\n",
        "    except IOError as e:\n",
        "        print(f\"Error appending to file '{file_path}': {e}\")\n",
        "    except Exception as e:\n",
        "        print(f\"An unexpected error occurred: {e}\")\n",
        "\n",
        "# Create or use an existing file\n",
        "append_file = 'append_example.txt'\n",
        "with open(append_file, 'w') as f:\n",
        "    f.write(\"Initial content.\\n\")\n",
        "\n",
        "# Append data\n",
        "append_to_file(append_file, \"This is appended content.\\n\")\n",
        "append_to_file(append_file, \"Another line of appended content.\\n\")\n",
        "\n",
        "# Verify the content (optional)\n",
        "try:\n",
        "    with open(append_file, 'r') as f:\n",
        "        print(f\"\\nContent of '{append_file}':\\n{f.read()}\")\n",
        "except FileNotFoundError:\n",
        "    print(f\"Error: File '{append_file}' not found after appending.\")"
      ],
      "execution_count": 36,
      "outputs": [
        {
          "output_type": "stream",
          "name": "stdout",
          "text": [
            "Appended data to 'append_example.txt'\n",
            "Appended data to 'append_example.txt'\n",
            "\n",
            "Content of 'append_example.txt':\n",
            "Initial content.\n",
            "This is appended content.\n",
            "Another line of appended content.\n",
            "\n"
          ]
        }
      ]
    },
    {
      "cell_type": "markdown",
      "source": [
        "11. Write a Python program that uses a try-except block to handle an error when attempting to access a dictionary key that doesn't exist.\n"
      ],
      "metadata": {
        "id": "J_5gkXoW0KZI"
      }
    },
    {
      "cell_type": "code",
      "metadata": {
        "colab": {
          "base_uri": "https://localhost:8080/"
        },
        "id": "f17ffdb6",
        "outputId": "56e33b96-4957-4892-e260-c530b48ea33a"
      },
      "source": [
        "def access_dictionary_key_safely(dictionary, key):\n",
        "    try:\n",
        "        value = dictionary[key]\n",
        "        print(f\"Value for key '{key}': {value}\")\n",
        "    except KeyError:\n",
        "        print(f\"Error: Key '{key}' not found in the dictionary.\")\n",
        "    except Exception as e:\n",
        "        print(f\"An unexpected error occurred: {e}\")\n",
        "\n",
        "my_dict = {\"apple\": 1, \"banana\": 2, \"cherry\": 3}\n",
        "\n",
        "access_dictionary_key_safely(my_dict, \"banana\")\n",
        "access_dictionary_key_safely(my_dict, \"date\")"
      ],
      "execution_count": 37,
      "outputs": [
        {
          "output_type": "stream",
          "name": "stdout",
          "text": [
            "Value for key 'banana': 2\n",
            "Error: Key 'date' not found in the dictionary.\n"
          ]
        }
      ]
    },
    {
      "cell_type": "markdown",
      "source": [
        "12. Write a program that demonstrates using multiple except blocks to handle different types of exceptions.\n"
      ],
      "metadata": {
        "id": "XZvEC16u0KPr"
      }
    },
    {
      "cell_type": "code",
      "metadata": {
        "colab": {
          "base_uri": "https://localhost:8080/"
        },
        "id": "f6623950",
        "outputId": "3b732f30-35d7-4ce6-965a-92d4a0be5930"
      },
      "source": [
        "def handle_multiple_exceptions(value):\n",
        "    try:\n",
        "        # Attempt to perform operations that might raise different exceptions\n",
        "        result = 10 / int(value)\n",
        "        print(f\"Result: {result}\")\n",
        "    except ValueError:\n",
        "        print(\"Caught a ValueError: Input could not be converted to an integer.\")\n",
        "    except ZeroDivisionError:\n",
        "        print(\"Caught a ZeroDivisionError: Attempted to divide by zero.\")\n",
        "    except TypeError:\n",
        "        print(\"Caught a TypeError: Invalid type for the operation.\")\n",
        "    except Exception as e:\n",
        "        print(f\"Caught an unexpected exception: {e}\")\n",
        "\n",
        "handle_multiple_exceptions(\"5\")      # No exception\n",
        "handle_multiple_exceptions(\"abc\")    # ValueError\n",
        "handle_multiple_exceptions(\"0\")      # ZeroDivisionError\n",
        "handle_multiple_exceptions([1, 2]) # TypeError"
      ],
      "execution_count": 38,
      "outputs": [
        {
          "output_type": "stream",
          "name": "stdout",
          "text": [
            "Result: 2.0\n",
            "Caught a ValueError: Input could not be converted to an integer.\n",
            "Caught a ZeroDivisionError: Attempted to divide by zero.\n",
            "Caught a TypeError: Invalid type for the operation.\n"
          ]
        }
      ]
    },
    {
      "cell_type": "markdown",
      "source": [
        "13. How would you check if a file exists before attempting to read it in Python?\n"
      ],
      "metadata": {
        "id": "cqRA-gI40KJd"
      }
    },
    {
      "cell_type": "code",
      "metadata": {
        "colab": {
          "base_uri": "https://localhost:8080/"
        },
        "id": "4fef78e4",
        "outputId": "0c601629-061c-468f-d240-b25b73237c52"
      },
      "source": [
        "import os\n",
        "\n",
        "def check_file_exists(file_path):\n",
        "    if os.path.exists(file_path):\n",
        "        print(f\"File '{file_path}' exists.\")\n",
        "        # You can now safely open and read the file\n",
        "        try:\n",
        "            with open(file_path, 'r') as f:\n",
        "                content = f.read()\n",
        "                # print(f\"Content:\\n{content}\") # Uncomment to print content if needed\n",
        "                pass\n",
        "        except IOError as e:\n",
        "            print(f\"Error reading file '{file_path}': {e}\")\n",
        "    else:\n",
        "        print(f\"File '{file_path}' does not exist.\")\n",
        "\n",
        "# Example usage\n",
        "check_file_exists('source.txt') # Using a file created earlier\n",
        "check_file_exists('non_existent_file_check.txt')"
      ],
      "execution_count": 39,
      "outputs": [
        {
          "output_type": "stream",
          "name": "stdout",
          "text": [
            "File 'source.txt' exists.\n",
            "File 'non_existent_file_check.txt' does not exist.\n"
          ]
        }
      ]
    },
    {
      "cell_type": "markdown",
      "source": [
        "14. Write a program that uses the logging module to log both informational and error messages.\n"
      ],
      "metadata": {
        "id": "NIbe0xJJ0KCt"
      }
    },
    {
      "cell_type": "code",
      "metadata": {
        "colab": {
          "base_uri": "https://localhost:8080/"
        },
        "id": "5db539b5",
        "outputId": "a8f59b61-b78e-4a75-f2d7-6240fa4c8f75"
      },
      "source": [
        "import logging\n",
        "\n",
        "# Configure logging\n",
        "logging.basicConfig(level=logging.INFO, format='%(asctime)s - %(levelname)s - %(message)s')\n",
        "\n",
        "def perform_operation(data):\n",
        "    logging.info(f\"Starting operation with data: {data}\")\n",
        "    try:\n",
        "        if data is None:\n",
        "            raise ValueError(\"Data cannot be None\")\n",
        "        result = len(data)\n",
        "        logging.info(f\"Operation successful. Result: {result}\")\n",
        "        return result\n",
        "    except ValueError as e:\n",
        "        logging.error(f\"Operation failed due to ValueError: {e}\")\n",
        "        return None\n",
        "    except Exception as e:\n",
        "        logging.error(f\"An unexpected error occurred during operation: {e}\")\n",
        "        return None\n",
        "\n",
        "perform_operation(\"hello world\")\n",
        "perform_operation(None)\n",
        "perform_operation([1, 2, 3])"
      ],
      "execution_count": 40,
      "outputs": [
        {
          "output_type": "stream",
          "name": "stderr",
          "text": [
            "ERROR:root:Operation failed due to ValueError: Data cannot be None\n"
          ]
        },
        {
          "output_type": "execute_result",
          "data": {
            "text/plain": [
              "3"
            ]
          },
          "metadata": {},
          "execution_count": 40
        }
      ]
    },
    {
      "cell_type": "markdown",
      "source": [
        "15. Write a Python program that prints the content of a file and handles the case when the file is empty."
      ],
      "metadata": {
        "id": "AjduJytn0f3J"
      }
    },
    {
      "cell_type": "code",
      "metadata": {
        "colab": {
          "base_uri": "https://localhost:8080/"
        },
        "id": "ce350c4a",
        "outputId": "cf412d0a-aaea-4b4e-8844-22a723edf23a"
      },
      "source": [
        "def print_file_content_handle_empty(file_path):\n",
        "    try:\n",
        "        with open(file_path, 'r') as f:\n",
        "            content = f.read()\n",
        "            if content:\n",
        "                print(f\"Content of '{file_path}':\\n{content}\")\n",
        "            else:\n",
        "                print(f\"File '{file_path}' is empty.\")\n",
        "    except FileNotFoundError:\n",
        "        print(f\"Error: The file '{file_path}' was not found.\")\n",
        "    except IOError as e:\n",
        "        print(f\"Error reading file '{file_path}': {e}\")\n",
        "    except Exception as e:\n",
        "        print(f\"An unexpected error occurred: {e}\")\n",
        "\n",
        "# Create a sample empty file\n",
        "empty_file = 'empty_file.txt'\n",
        "with open(empty_file, 'w') as f:\n",
        "    pass # Create an empty file\n",
        "\n",
        "# Create a sample non-empty file\n",
        "non_empty_file = 'non_empty_file.txt'\n",
        "with open(non_empty_file, 'w') as f:\n",
        "    f.write(\"This file is not empty.\")\n",
        "\n",
        "# Example usage\n",
        "print_file_content_handle_empty(non_empty_file)\n",
        "print_file_content_handle_empty(empty_file)\n",
        "print_file_content_handle_empty('non_existent_file_for_empty_check.txt')"
      ],
      "execution_count": 41,
      "outputs": [
        {
          "output_type": "stream",
          "name": "stdout",
          "text": [
            "Content of 'non_empty_file.txt':\n",
            "This file is not empty.\n",
            "File 'empty_file.txt' is empty.\n",
            "Error: The file 'non_existent_file_for_empty_check.txt' was not found.\n"
          ]
        }
      ]
    },
    {
      "cell_type": "markdown",
      "source": [
        "16. Demonstrate how to use memory profiling to check the memory usage of a small program.\n"
      ],
      "metadata": {
        "id": "rg0zD9TD1YTY"
      }
    },
    {
      "cell_type": "code",
      "source": [
        "!pip install memory_profiler\n"
      ],
      "metadata": {
        "colab": {
          "base_uri": "https://localhost:8080/"
        },
        "id": "cOVyEXnR1_3n",
        "outputId": "4d3b1f03-b90f-4bc9-a60e-d46dd42aa2e8"
      },
      "execution_count": 42,
      "outputs": [
        {
          "output_type": "stream",
          "name": "stdout",
          "text": [
            "Requirement already satisfied: memory_profiler in /usr/local/lib/python3.12/dist-packages (0.61.0)\n",
            "Requirement already satisfied: psutil in /usr/local/lib/python3.12/dist-packages (from memory_profiler) (5.9.5)\n"
          ]
        }
      ]
    },
    {
      "cell_type": "code",
      "metadata": {
        "colab": {
          "base_uri": "https://localhost:8080/"
        },
        "id": "aa406b45",
        "outputId": "50c89bc6-8adf-40ff-ce2e-e8e23ebd3a5f"
      },
      "source": [
        "\n",
        "from memory_profiler import profile\n",
        "\n",
        "@profile\n",
        "def create_list():\n",
        "    data = [i for i in range(1000000)]\n",
        "    return data\n",
        "\n",
        "if __name__ == '__main__':\n",
        "    my_list = create_list()\n",
        "    print(\"List created.\")\n",
        "\n"
      ],
      "execution_count": 43,
      "outputs": [
        {
          "output_type": "stream",
          "name": "stdout",
          "text": [
            "ERROR: Could not find file /tmp/ipython-input-3708047523.py\n",
            "List created.\n"
          ]
        }
      ]
    },
    {
      "cell_type": "markdown",
      "source": [
        "17. Write a Python program to create and write a list of numbers to a file, one number per line.\n",
        "\n"
      ],
      "metadata": {
        "id": "oVNziTLI1YI9"
      }
    },
    {
      "cell_type": "code",
      "metadata": {
        "colab": {
          "base_uri": "https://localhost:8080/"
        },
        "id": "6a408e21",
        "outputId": "cafe5344-d7de-4a02-afed-e10a497a7426"
      },
      "source": [
        "\n",
        "def write_numbers_to_file(file_path, numbers):\n",
        "    try:\n",
        "        with open(file_path, 'w') as f:\n",
        "            for number in numbers:\n",
        "                f.write(str(number) + '\\n')\n",
        "        print(f\"Numbers written to '{file_path}'.\")\n",
        "    except IOError as e:\n",
        "        print(f\"Error writing to file '{file_path}': {e}\")\n",
        "    except Exception as e:\n",
        "        print(f\"An unexpected error occurred: {e}\")\n",
        "\n",
        "my_numbers = [10, 20, 30, 40, 50]\n",
        "output_file = 'numbers_list.txt'\n",
        "write_numbers_to_file(output_file, my_numbers)\n",
        "\n",
        "# Verify the content (optional)\n",
        "try:\n",
        "    with open(output_file, 'r') as f:\n",
        "        print(f\"\\nContent of '{output_file}':\\n{f.read()}\")\n",
        "except FileNotFoundError:\n",
        "    print(f\"Error: File '{output_file}' not found after writing.\")"
      ],
      "execution_count": 44,
      "outputs": [
        {
          "output_type": "stream",
          "name": "stdout",
          "text": [
            "Numbers written to 'numbers_list.txt'.\n",
            "\n",
            "Content of 'numbers_list.txt':\n",
            "10\n",
            "20\n",
            "30\n",
            "40\n",
            "50\n",
            "\n"
          ]
        }
      ]
    },
    {
      "cell_type": "markdown",
      "source": [
        "18. How would you implement a basic logging setup that logs to a file with rotation after 1MB?\n"
      ],
      "metadata": {
        "id": "auaO4GPQ1X-L"
      }
    },
    {
      "cell_type": "code",
      "metadata": {
        "colab": {
          "base_uri": "https://localhost:8080/"
        },
        "id": "d54acd00",
        "outputId": "77a734f2-c71b-47fe-8e62-053b455b159b"
      },
      "source": [
        "\n",
        "import logging\n",
        "from logging.handlers import RotatingFileHandler\n",
        "import os\n",
        "\n",
        "log_file_rotated = 'rotating_log.log'\n",
        "max_bytes = 1024 * 1024 # 1 MB\n",
        "backup_count = 5 # Keep up to 5 old log files\n",
        "\n",
        "# Configure logging with rotation\n",
        "handler = RotatingFileHandler(log_file_rotated, maxBytes=max_bytes, backupCount=backup_count)\n",
        "formatter = logging.Formatter('%(asctime)s - %(name)s - %(levelname)s - %(message)s')\n",
        "handler.setFormatter(formatter)\n",
        "\n",
        "logger = logging.getLogger('my_rotating_logger')\n",
        "logger.setLevel(logging.INFO)\n",
        "logger.addHandler(handler)\n",
        "\n",
        "# Example logging\n",
        "logger.info(\"This is an informational message.\")\n",
        "logger.error(\"This is an error message that will be logged.\")\n",
        "\n",
        "# To test rotation, you would need to write more than 1MB of data to the log file.\n",
        "# This example just sets up the handler.\n",
        "print(f\"Logging configured to '{log_file_rotated}' with rotation.\")\n",
        "print(\"Note: To see rotation in action, you need to write enough log messages to exceed 1MB.\")"
      ],
      "execution_count": 45,
      "outputs": [
        {
          "output_type": "stream",
          "name": "stderr",
          "text": [
            "INFO:my_rotating_logger:This is an informational message.\n",
            "ERROR:my_rotating_logger:This is an error message that will be logged.\n"
          ]
        },
        {
          "output_type": "stream",
          "name": "stdout",
          "text": [
            "Logging configured to 'rotating_log.log' with rotation.\n",
            "Note: To see rotation in action, you need to write enough log messages to exceed 1MB.\n"
          ]
        }
      ]
    },
    {
      "cell_type": "markdown",
      "source": [
        "19. Write a program that handles both IndexError and KeyError using a try-except block.\n"
      ],
      "metadata": {
        "id": "UGPD6pBw1XxG"
      }
    },
    {
      "cell_type": "code",
      "metadata": {
        "colab": {
          "base_uri": "https://localhost:8080/"
        },
        "id": "22203637",
        "outputId": "f6335497-48d4-4307-d60f-4f8314ed17f8"
      },
      "source": [
        "def handle_list_and_dict_access(data, index, key):\n",
        "    try:\n",
        "        list_item = data[index]\n",
        "        print(f\"Item at index {index}: {list_item}\")\n",
        "\n",
        "        dict_value = data[key]\n",
        "        print(f\"Value for key '{key}': {dict_value}\")\n",
        "\n",
        "    except IndexError:\n",
        "        print(f\"Caught IndexError: Index {index} is out of bounds.\")\n",
        "    except KeyError:\n",
        "        print(f\"Caught KeyError: Key '{key}' not found.\")\n",
        "    except Exception as e:\n",
        "        print(f\"Caught an unexpected exception: {e}\")\n",
        "\n",
        "my_list_dict = [1, 2, 3, {\"a\": 10, \"b\": 20}]\n",
        "\n",
        "handle_list_and_dict_access(my_list_dict, 0, \"a\")    # Valid access\n",
        "handle_list_and_dict_access(my_list_dict, 10, \"a\")   # IndexError\n",
        "handle_list_and_dict_access(my_list_dict, 0, \"c\")    # KeyError\n",
        "handle_list_and_dict_access(my_list_dict, 10, \"c\")  # Both (IndexError will be caught first)"
      ],
      "execution_count": 46,
      "outputs": [
        {
          "output_type": "stream",
          "name": "stdout",
          "text": [
            "Item at index 0: 1\n",
            "Caught an unexpected exception: list indices must be integers or slices, not str\n",
            "Caught IndexError: Index 10 is out of bounds.\n",
            "Item at index 0: 1\n",
            "Caught an unexpected exception: list indices must be integers or slices, not str\n",
            "Caught IndexError: Index 10 is out of bounds.\n"
          ]
        }
      ]
    },
    {
      "cell_type": "markdown",
      "source": [
        "20. How would you open a file and read its contents using a context manager in Python?\n"
      ],
      "metadata": {
        "id": "fIz1gZra1Xkd"
      }
    },
    {
      "cell_type": "code",
      "metadata": {
        "colab": {
          "base_uri": "https://localhost:8080/"
        },
        "id": "4ef86e47",
        "outputId": "644b11d1-1a47-471b-e234-4ffd1957187d"
      },
      "source": [
        "\n",
        "\n",
        "file_to_read = 'sample_read_file.txt' # Using a file created earlier\n",
        "\n",
        "try:\n",
        "    with open(file_to_read, 'r') as f:\n",
        "        content = f.read()\n",
        "        print(f\"Content of '{file_to_read}' using a context manager:\\n{content}\")\n",
        "except FileNotFoundError:\n",
        "    print(f\"Error: File '{file_to_read}' not found.\")\n",
        "except Exception as e:\n",
        "    print(f\"An error occurred: {e}\")"
      ],
      "execution_count": 47,
      "outputs": [
        {
          "output_type": "stream",
          "name": "stdout",
          "text": [
            "Content of 'sample_read_file.txt' using a context manager:\n",
            "Line 1\n",
            "Line 2\n",
            "Line 3\n",
            "\n"
          ]
        }
      ]
    },
    {
      "cell_type": "markdown",
      "source": [
        "21. Write a Python program that reads a file and prints the number of occurrences of a specific word.\n"
      ],
      "metadata": {
        "id": "UBgBBwQL1XXo"
      }
    },
    {
      "cell_type": "code",
      "metadata": {
        "colab": {
          "base_uri": "https://localhost:8080/"
        },
        "id": "dfee2ae9",
        "outputId": "3f733f19-4f9f-41dd-df8c-313eaf8e3941"
      },
      "source": [
        "\n",
        "def count_word_occurrences(file_path, word):\n",
        "    count = 0\n",
        "    try:\n",
        "        with open(file_path, 'r') as f:\n",
        "            content = f.read()\n",
        "            # Convert to lowercase and split into words for case-insensitive counting\n",
        "            words = content.lower().split()\n",
        "            count = words.count(word.lower())\n",
        "        print(f\"The word '{word}' appears {count} times in '{file_path}'.\")\n",
        "        return count\n",
        "    except FileNotFoundError:\n",
        "        print(f\"Error: The file '{file_path}' was not found.\")\n",
        "        return None\n",
        "    except Exception as e:\n",
        "        print(f\"An error occurred: {e}\")\n",
        "        return None\n",
        "\n",
        "# Create a sample file\n",
        "word_count_file = 'word_count_sample.txt'\n",
        "word_count_content = \"This is a sample file. This file has sample content. Sample sample sample.\"\n",
        "with open(word_count_file, 'w') as f:\n",
        "    f.write(word_count_content)\n",
        "\n",
        "# Example usage\n",
        "count_word_occurrences(word_count_file, \"sample\")\n",
        "count_word_occurrences(word_count_file, \"this\")\n",
        "count_word_occurrences(word_count_file, \"nonexistent\")\n",
        "count_word_occurrences('non_existent_word_count.txt', 'word')"
      ],
      "execution_count": 48,
      "outputs": [
        {
          "output_type": "stream",
          "name": "stdout",
          "text": [
            "The word 'sample' appears 4 times in 'word_count_sample.txt'.\n",
            "The word 'this' appears 2 times in 'word_count_sample.txt'.\n",
            "The word 'nonexistent' appears 0 times in 'word_count_sample.txt'.\n",
            "Error: The file 'non_existent_word_count.txt' was not found.\n"
          ]
        }
      ]
    },
    {
      "cell_type": "markdown",
      "source": [
        "22. How can you check if a file is empty before attempting to read its contents?\n"
      ],
      "metadata": {
        "id": "s1HAZXos1W38"
      }
    },
    {
      "cell_type": "code",
      "metadata": {
        "colab": {
          "base_uri": "https://localhost:8080/"
        },
        "id": "10ad8ae6",
        "outputId": "c6f4bc24-f18c-42f2-86d7-289aff976921"
      },
      "source": [
        "\n",
        "import os\n",
        "\n",
        "def is_file_empty(file_path):\n",
        "    if not os.path.exists(file_path):\n",
        "        print(f\"File '{file_path}' not found.\")\n",
        "        return False # Or raise an error, depending on desired behavior\n",
        "    return os.path.getsize(file_path) == 0\n",
        "\n",
        "# Create a sample empty file\n",
        "empty_file_check = 'empty_file_check.txt'\n",
        "with open(empty_file_check, 'w') as f:\n",
        "    pass # Create an empty file\n",
        "\n",
        "# Create a sample non-empty file\n",
        "non_empty_file_check = 'non_empty_file_check.txt'\n",
        "with open(non_empty_file_check, 'w') as f:\n",
        "    f.write(\"Some content.\")\n",
        "\n",
        "# Example usage\n",
        "print(f\"Is '{empty_file_check}' empty? {is_file_empty(empty_file_check)}\")\n",
        "print(f\"Is '{non_empty_file_check}' empty? {is_file_empty(non_empty_file_check)}\")\n",
        "print(f\"Is 'non_existent_file_size_check.txt' empty? {is_file_empty('non_existent_file_size_check.txt')}\")\n",
        "\n",
        "# You can then use this check before reading:\n",
        "file_to_read_if_not_empty = 'some_file.txt' # Replace with a real file path\n",
        "if os.path.exists(file_to_read_if_not_empty) and not is_file_empty(file_to_read_if_not_empty):\n",
        "    try:\n",
        "        with open(file_to_read_if_not_empty, 'r') as f:\n",
        "            content = f.read()\n",
        "            # Process content\n",
        "            print(f\"\\nRead content from '{file_to_read_if_not_empty}':\\n{content}\")\n",
        "    except IOError as e:\n",
        "        print(f\"Error reading file '{file_to_read_if_not_empty}': {e}\")\n",
        "else:\n",
        "    print(f\"\\nFile '{file_to_read_if_not_empty}' does not exist or is empty, skipping read.\")"
      ],
      "execution_count": 49,
      "outputs": [
        {
          "output_type": "stream",
          "name": "stdout",
          "text": [
            "Is 'empty_file_check.txt' empty? True\n",
            "Is 'non_empty_file_check.txt' empty? False\n",
            "File 'non_existent_file_size_check.txt' not found.\n",
            "Is 'non_existent_file_size_check.txt' empty? False\n",
            "\n",
            "File 'some_file.txt' does not exist or is empty, skipping read.\n"
          ]
        }
      ]
    },
    {
      "cell_type": "markdown",
      "source": [
        "23. Write a Python program that writes to a log file when an error occurs during file handling."
      ],
      "metadata": {
        "id": "Mn2xMVOR1orf"
      }
    },
    {
      "cell_type": "code",
      "metadata": {
        "colab": {
          "base_uri": "https://localhost:8080/"
        },
        "id": "9acdf40a",
        "outputId": "7ca11b70-cc67-46e7-d29f-56c3cc8f2b73"
      },
      "source": [
        "\n",
        "import logging\n",
        "\n",
        "# Configure logging to a file\n",
        "log_file_errors = 'file_handling_errors.log'\n",
        "logging.basicConfig(filename=log_file_errors, level=logging.ERROR,\n",
        "                    format='%(asctime)s - %(levelname)s - %(message)s')\n",
        "\n",
        "def read_file_with_error_logging(file_path):\n",
        "    try:\n",
        "        with open(file_path, 'r') as f:\n",
        "            content = f.read()\n",
        "            print(f\"Successfully read file '{file_path}'.\")\n",
        "            # print(content) # Uncomment to see content\n",
        "    except FileNotFoundError:\n",
        "        error_message = f\"FileNotFoundError: The file '{file_path}' was not found.\"\n",
        "        logging.error(error_message)\n",
        "        print(f\"Error reading file '{file_path}'. Details logged to '{log_file_errors}'.\")\n",
        "    except IOError as e:\n",
        "        error_message = f\"IOError: Error opening or reading file '{file_path}': {e}\"\n",
        "        logging.error(error_message)\n",
        "        print(f\"Error reading file '{file_path}'. Details logged to '{log_file_errors}'.\")\n",
        "    except Exception as e:\n",
        "        error_message = f\"An unexpected error occurred while handling file '{file_path}': {e}\"\n",
        "        logging.error(error_message)\n",
        "        print(f\"An unexpected error occurred with file '{file_path}'. Details logged to '{log_file_errors}'.\")\n",
        "\n",
        "# Example usage\n",
        "read_file_with_error_logging('existing_file_to_log.txt') # Replace with an actual existing file if needed\n",
        "read_file_with_error_logging('non_existent_file_for_error_logging.txt')\n",
        "\n",
        "# You can check the 'file_handling_errors.log' file for error messages."
      ],
      "execution_count": 50,
      "outputs": [
        {
          "output_type": "stream",
          "name": "stderr",
          "text": [
            "ERROR:root:FileNotFoundError: The file 'existing_file_to_log.txt' was not found.\n",
            "ERROR:root:FileNotFoundError: The file 'non_existent_file_for_error_logging.txt' was not found.\n"
          ]
        },
        {
          "output_type": "stream",
          "name": "stdout",
          "text": [
            "Error reading file 'existing_file_to_log.txt'. Details logged to 'file_handling_errors.log'.\n",
            "Error reading file 'non_existent_file_for_error_logging.txt'. Details logged to 'file_handling_errors.log'.\n"
          ]
        }
      ]
    }
  ]
}