{
  "nbformat": 4,
  "nbformat_minor": 0,
  "metadata": {
    "colab": {
      "provenance": []
    },
    "kernelspec": {
      "name": "python3",
      "display_name": "Python 3"
    },
    "language_info": {
      "name": "python"
    }
  },
  "cells": [
    {
      "cell_type": "markdown",
      "source": [
        "## Data Types and Structures Assignment"
      ],
      "metadata": {
        "id": "kXD8pppFUTQR"
      }
    },
    {
      "cell_type": "markdown",
      "source": [
        "# Data Types and Structures Questions"
      ],
      "metadata": {
        "id": "e1cLcwnPUiSz"
      }
    },
    {
      "cell_type": "markdown",
      "source": [
        "1. What are data structures, and why are they important?\n",
        "\n",
        "  Data structures are organized ways to store and manage data so it can be accessed and modified efficiently.\n",
        "  They are important because they:\n",
        "  - Provide efficiency in data storage and retrieval.\n",
        "  - Optimize memory usage.\n",
        "  - Help in solving complex problems (e.g., graphs, trees).\n",
        "  - Form the foundation of algorithms and system design.\n",
        "2. Explain the difference between mutable and immutable data types with examples.\n",
        "\n",
        "  - Mutable: Can be changed after creation. Example: list = [1, 2, 3]; list[0] = 10 → [10, 2, 3].\n",
        "  - Immutable: Cannot be changed once created. Example: string = 'hello'; string[0] = 'H' ❌ (Error).\n",
        "\n",
        "3. What are the main differences between lists and tuples in Python?\n",
        "\n",
        "  - List: Mutable, defined with [], slower, suitable for frequent changes.\n",
        "  - Tuple: Immutable, defined with (), faster, ensures data integrity.\n",
        "4. Describe how dictionaries store data.\n",
        "\n",
        "  Dictionaries store data in key-value pairs using hashing.\n",
        "  Each key is unique, and it maps to a value. Example: {\"name\": \"Alice\", \"age\": 25}.\n",
        "5. Why might you use a set instead of a list in Python?\n",
        "  - To remove duplicates automatically.\n",
        "  - To perform fast set operations (union, intersection).\n",
        "  - Faster membership checking (in operator).\n",
        "6. What is a string in Python, and how is it different from a list?\n",
        "  - String: Sequence of characters, immutable.\n",
        "  - List: Sequence of elements (numbers, strings, objects), mutable.\n",
        "7. How do tuples ensure data integrity in Python?\n",
        "\n",
        "  Tuples are immutable → once created, values cannot change. This prevents accidental modifications.\n",
        "8. What is a hash table, and how does it relate to dictionaries in Python?\n",
        "\n",
        "  - Hash Table: Data structure that stores items by computing a hash code of keys.\n",
        "  - Dictionary in Python is implemented using a hash table for fast key lookups.\n",
        "9. Can lists contain different data types in Python?\n",
        "\n",
        "  Yes. Example: [1, 'hello', 3.14, True] → contains int, str, float, and bool.\n",
        "10. Explain why strings are immutable in Python.\n",
        "\n",
        "  - Strings are immutable to ensure security, efficiency, and caching.\n",
        "  - Reassigning creates a new object instead of modifying the old one.\n",
        "\n",
        "11. What advantages do dictionaries offer over lists for certain tasks?\n",
        "\n",
        "  - Faster lookups (O(1) vs O(n) in lists).\n",
        "  - Key-based access instead of index-based.\n",
        "  - Easier to model real-world objects (name–value pairs).\n",
        "12. Describe a scenario where using a tuple would be preferable over a list.\n",
        "\n",
        "  - When data should not change (e.g., coordinates (x, y), days of the week).\n",
        "  - For use as keys in a dictionary (lists cannot be keys, but tuples can).\n",
        "13. How do sets handle duplicate values in Python?\n",
        "\n",
        "  Sets remove duplicates automatically.\n",
        "  Example: set([1, 2, 2, 3]) → {1, 2, 3}.\n",
        "14. How does the “in” keyword work differently for lists and dictionaries?\n",
        "\n",
        "  - In lists: checks if an element exists. → 3 in [1,2,3] ✅\n",
        "  - In dictionaries: checks if a key exists, not the value. → 'name' in {'name': 'Alice'} ✅\n",
        "15. Can you modify the elements of a tuple? Explain why or why not.\n",
        "\n",
        "  No, tuples are immutable. Once created, elements cannot be changed, added, or removed.\n",
        "16. What is a nested dictionary, and give an example of its use case.\n",
        "\n",
        "  A dictionary inside another dictionary.\n",
        "  Example: student = {'name': 'Alice','marks': {'math': 90, 'science': 85}}.\n",
        "17. Describe the time complexity of accessing elements in a dictionary.\n",
        "\n",
        "  - Average case: O(1) (constant time).\n",
        "  - Worst case: O(n) (when hash collisions occur).\n",
        "18. In what situations are lists preferred over dictionaries?\n",
        "\n",
        "  - When order matters.\n",
        "  - When items are indexed by position.\n",
        "  - When duplicate values are allowed.\n",
        "19. Why are dictionaries considered unordered, and how does that affect data retrieval?\n",
        "\n",
        "  - Before Python 3.7, dictionaries had no guaranteed order.\n",
        "  - From Python 3.7+, insertion order is preserved, but still not meant for sequential indexing.\n",
        "  - Retrieval is always key-based.\n",
        "  \n",
        "20. Explain the difference between a list and a dictionary in terms of data retrieval.\n",
        "\n",
        "  - List: Access elements by index (list[0]).\n",
        "  - Dictionary: Access elements by key (dict['name']).\n",
        "  Dictionaries are faster for searching by key compared to lists.\n"
      ],
      "metadata": {
        "id": "9xoU_kVvUpAg"
      }
    },
    {
      "cell_type": "markdown",
      "source": [
        "## Practical Questions"
      ],
      "metadata": {
        "id": "3Dq8cfs-dAcj"
      }
    },
    {
      "cell_type": "markdown",
      "source": [
        "1. Write a code to create a string with your name and print it"
      ],
      "metadata": {
        "id": "RuodO8I5dF5d"
      }
    },
    {
      "cell_type": "code",
      "metadata": {
        "colab": {
          "base_uri": "https://localhost:8080/"
        },
        "id": "313b7a6a",
        "outputId": "89347492-422d-403d-93aa-e9195ef1c7df"
      },
      "source": [
        "# Create a string with your name and print it\n",
        "my_name = \"Peter Bagchi\"\n",
        "print(my_name)"
      ],
      "execution_count": 33,
      "outputs": [
        {
          "output_type": "stream",
          "name": "stdout",
          "text": [
            "Peter Bagchi\n"
          ]
        }
      ]
    },
    {
      "cell_type": "markdown",
      "source": [
        "2. Write a code to find the length of the string \"Hello World\""
      ],
      "metadata": {
        "id": "Z_Jqsv_cdee0"
      }
    },
    {
      "cell_type": "code",
      "metadata": {
        "colab": {
          "base_uri": "https://localhost:8080/"
        },
        "id": "84830e99",
        "outputId": "689dd8ba-fb4a-477a-869d-3cf71f411536"
      },
      "source": [
        "# Find the length of the string \"Hello World\"\n",
        "string_to_measure = \"Hello World\"\n",
        "string_length = len(string_to_measure)\n",
        "print(string_length)"
      ],
      "execution_count": 34,
      "outputs": [
        {
          "output_type": "stream",
          "name": "stdout",
          "text": [
            "11\n"
          ]
        }
      ]
    },
    {
      "cell_type": "markdown",
      "source": [
        "3.Write a code to slice the first 3 characters from the string \"Python Programming\""
      ],
      "metadata": {
        "id": "xiv9YjWgdp0T"
      }
    },
    {
      "cell_type": "code",
      "metadata": {
        "colab": {
          "base_uri": "https://localhost:8080/"
        },
        "id": "879789c1",
        "outputId": "8fa98a68-17ce-4d94-b016-bbe4ff37db31"
      },
      "source": [
        "# Slice the first 3 characters from the string \"Python Programming\"\n",
        "original_string = \"Python Programming\"\n",
        "sliced_string = original_string[:3]\n",
        "print(sliced_string)"
      ],
      "execution_count": 35,
      "outputs": [
        {
          "output_type": "stream",
          "name": "stdout",
          "text": [
            "Pyt\n"
          ]
        }
      ]
    },
    {
      "cell_type": "markdown",
      "source": [
        "4.Write a code to convert the string \"hello\" to uppercase"
      ],
      "metadata": {
        "id": "1kDjqOGOdzrb"
      }
    },
    {
      "cell_type": "code",
      "metadata": {
        "colab": {
          "base_uri": "https://localhost:8080/"
        },
        "id": "dc6c499a",
        "outputId": "28077dcf-958b-4735-a9ae-b39d7cc92fcc"
      },
      "source": [
        "# Convert the string \"hello\" to uppercase\n",
        "lowercase_string = \"hello\"\n",
        "uppercase_string = lowercase_string.upper()\n",
        "print(uppercase_string)"
      ],
      "execution_count": 36,
      "outputs": [
        {
          "output_type": "stream",
          "name": "stdout",
          "text": [
            "HELLO\n"
          ]
        }
      ]
    },
    {
      "cell_type": "markdown",
      "source": [
        "5.Write a code to replace the word \"apple\" with \"orange\" in the string \"I like apple\""
      ],
      "metadata": {
        "id": "xzit02ZPd637"
      }
    },
    {
      "cell_type": "code",
      "metadata": {
        "colab": {
          "base_uri": "https://localhost:8080/"
        },
        "id": "3087e34e",
        "outputId": "21536209-464b-4034-db53-a49a7f6a7834"
      },
      "source": [
        "# Replace the word \"apple\" with \"orange\" in the string \"I like apple\"\n",
        "sentence = \"I like apple\"\n",
        "new_sentence = sentence.replace(\"apple\", \"orange\")\n",
        "print(new_sentence)"
      ],
      "execution_count": 37,
      "outputs": [
        {
          "output_type": "stream",
          "name": "stdout",
          "text": [
            "I like orange\n"
          ]
        }
      ]
    },
    {
      "cell_type": "markdown",
      "source": [
        "6.Write a code to create a list with numbers 1 to 5 and print it"
      ],
      "metadata": {
        "id": "4ksgzoY5d-7Q"
      }
    },
    {
      "cell_type": "code",
      "metadata": {
        "colab": {
          "base_uri": "https://localhost:8080/"
        },
        "id": "3394942a",
        "outputId": "d3a2ffec-69f7-47d3-e530-5a80ece9ca54"
      },
      "source": [
        "# Create a list with numbers 1 to 5 and print it\n",
        "numbers_list = [1, 2, 3, 4, 5]\n",
        "print(numbers_list)"
      ],
      "execution_count": 38,
      "outputs": [
        {
          "output_type": "stream",
          "name": "stdout",
          "text": [
            "[1, 2, 3, 4, 5]\n"
          ]
        }
      ]
    },
    {
      "cell_type": "markdown",
      "source": [
        "7. Write a code to append the number 10 to the list[1, 2, 3, 4]"
      ],
      "metadata": {
        "id": "YmLqXCE0eFkP"
      }
    },
    {
      "cell_type": "code",
      "metadata": {
        "colab": {
          "base_uri": "https://localhost:8080/"
        },
        "id": "e4efdb5a",
        "outputId": "2f6b73d3-a41d-40bf-a1ca-ecb20cb89e37"
      },
      "source": [
        "# Append the number 10 to the list [1, 2, 3, 4]\n",
        "my_list = [1, 2, 3, 4]\n",
        "my_list.append(10)\n",
        "print(my_list)"
      ],
      "execution_count": 39,
      "outputs": [
        {
          "output_type": "stream",
          "name": "stdout",
          "text": [
            "[1, 2, 3, 4, 10]\n"
          ]
        }
      ]
    },
    {
      "cell_type": "markdown",
      "source": [
        " 8.Write a code to remove the number 3 from the list [1, 2, 3, 4, 5]"
      ],
      "metadata": {
        "id": "4npPryG9eGnQ"
      }
    },
    {
      "cell_type": "code",
      "metadata": {
        "colab": {
          "base_uri": "https://localhost:8080/"
        },
        "id": "29f99f11",
        "outputId": "1d710625-db33-4255-8d13-609d3f12905c"
      },
      "source": [
        "# Remove the number 3 from the list [1, 2, 3, 4, 5]\n",
        "another_list = [1, 2, 3, 4, 5]\n",
        "another_list.remove(3)\n",
        "print(another_list)"
      ],
      "execution_count": 40,
      "outputs": [
        {
          "output_type": "stream",
          "name": "stdout",
          "text": [
            "[1, 2, 4, 5]\n"
          ]
        }
      ]
    },
    {
      "cell_type": "markdown",
      "source": [
        "9.Write a code to access the second element in the list ['a', 'b', 'c', 'd']\n"
      ],
      "metadata": {
        "id": "dSDTJNFReHXR"
      }
    },
    {
      "cell_type": "code",
      "metadata": {
        "colab": {
          "base_uri": "https://localhost:8080/"
        },
        "id": "ded0577e",
        "outputId": "14b06f66-bb75-4665-eab8-6a6506afe72b"
      },
      "source": [
        "# Access the second element in the list ['a', 'b', 'c', 'd']\n",
        "list_of_chars = ['a', 'b', 'c', 'd']\n",
        "second_element = list_of_chars[1]\n",
        "print(second_element)"
      ],
      "execution_count": 41,
      "outputs": [
        {
          "output_type": "stream",
          "name": "stdout",
          "text": [
            "b\n"
          ]
        }
      ]
    },
    {
      "cell_type": "markdown",
      "source": [
        "10.Write a code to reverse the list [10, 20, 30, 40, 50]."
      ],
      "metadata": {
        "id": "u7p8T606eHt5"
      }
    },
    {
      "cell_type": "code",
      "metadata": {
        "colab": {
          "base_uri": "https://localhost:8080/"
        },
        "id": "6622b209",
        "outputId": "547290a1-fee8-42ed-b8a1-670bec58ed67"
      },
      "source": [
        "# Reverse the list [10, 20, 30, 40, 50]\n",
        "list_to_reverse = [10, 20, 30, 40, 50]\n",
        "list_to_reverse.reverse()\n",
        "print(list_to_reverse)"
      ],
      "execution_count": 42,
      "outputs": [
        {
          "output_type": "stream",
          "name": "stdout",
          "text": [
            "[50, 40, 30, 20, 10]\n"
          ]
        }
      ]
    },
    {
      "cell_type": "markdown",
      "source": [
        "11.Write a code to create a tuple with the elements 100, 200, 300 and print it."
      ],
      "metadata": {
        "id": "OroMHQ1MexVM"
      }
    },
    {
      "cell_type": "code",
      "metadata": {
        "colab": {
          "base_uri": "https://localhost:8080/"
        },
        "id": "92349af0",
        "outputId": "095c0370-0ac6-4949-d862-ee91a29aa2cc"
      },
      "source": [
        "# Create a tuple with the elements 100, 200, 300 and print it.\n",
        "my_tuple = (100, 200, 300)\n",
        "print(my_tuple)"
      ],
      "execution_count": 43,
      "outputs": [
        {
          "output_type": "stream",
          "name": "stdout",
          "text": [
            "(100, 200, 300)\n"
          ]
        }
      ]
    },
    {
      "cell_type": "markdown",
      "source": [
        "12.Write a code to access the second-to-last element of the tuple ('red', 'green', 'blue', 'yellow').\n"
      ],
      "metadata": {
        "id": "u3XAAAvneIF7"
      }
    },
    {
      "cell_type": "code",
      "metadata": {
        "colab": {
          "base_uri": "https://localhost:8080/"
        },
        "id": "7ede92b0",
        "outputId": "41b611d2-f97b-447a-ba81-495cf2ba64cc"
      },
      "source": [
        "# Access the second-to-last element of the tuple ('red', 'green', 'blue', 'yellow').\n",
        "color_tuple = ('red', 'green', 'blue', 'yellow')\n",
        "second_to_last = color_tuple[-2]\n",
        "print(second_to_last)"
      ],
      "execution_count": 44,
      "outputs": [
        {
          "output_type": "stream",
          "name": "stdout",
          "text": [
            "blue\n"
          ]
        }
      ]
    },
    {
      "cell_type": "markdown",
      "source": [
        "13.Write a code to find the minimum number in the tuple (10, 20, 5, 15)."
      ],
      "metadata": {
        "id": "jaXQa38Fe1AL"
      }
    },
    {
      "cell_type": "code",
      "metadata": {
        "colab": {
          "base_uri": "https://localhost:8080/"
        },
        "id": "ab5e289e",
        "outputId": "497382ab-1549-4214-92d1-a4a7c33babee"
      },
      "source": [
        "# Find the minimum number in the tuple (10, 20, 5, 15).\n",
        "numbers_tuple = (10, 20, 5, 15)\n",
        "minimum_number = min(numbers_tuple)\n",
        "print(minimum_number)"
      ],
      "execution_count": 45,
      "outputs": [
        {
          "output_type": "stream",
          "name": "stdout",
          "text": [
            "5\n"
          ]
        }
      ]
    },
    {
      "cell_type": "markdown",
      "source": [
        "14.Write a code to find the index of the element \"cat\" in the tuple ('dog', 'cat', 'rabbit')."
      ],
      "metadata": {
        "id": "cQKfR9sUgX4z"
      }
    },
    {
      "cell_type": "code",
      "metadata": {
        "colab": {
          "base_uri": "https://localhost:8080/"
        },
        "id": "4602ccc0",
        "outputId": "ed6995f7-3099-419d-85fd-9c6b8c5815a1"
      },
      "source": [
        "# Find the index of the element \"cat\" in the tuple ('dog', 'cat', 'rabbit').\n",
        "animal_tuple = ('dog', 'cat', 'rabbit')\n",
        "index_of_cat = animal_tuple.index(\"cat\")\n",
        "print(index_of_cat)"
      ],
      "execution_count": 46,
      "outputs": [
        {
          "output_type": "stream",
          "name": "stdout",
          "text": [
            "1\n"
          ]
        }
      ]
    },
    {
      "cell_type": "markdown",
      "source": [
        "15.Write a code to create a tuple containing three different fruits and check if \"kiwi\" is in it."
      ],
      "metadata": {
        "id": "ZBlVixMfgnPP"
      }
    },
    {
      "cell_type": "code",
      "metadata": {
        "colab": {
          "base_uri": "https://localhost:8080/"
        },
        "id": "878585a3",
        "outputId": "ec11e6f1-2cc1-4261-eb17-ee2120694f33"
      },
      "source": [
        "# Create a tuple containing three different fruits and check if \"kiwi\" is in it.\n",
        "fruit_tuple = (\"apple\", \"banana\", \"orange\")\n",
        "is_kiwi_in_tuple = \"kiwi\" in fruit_tuple\n",
        "print(is_kiwi_in_tuple)"
      ],
      "execution_count": 47,
      "outputs": [
        {
          "output_type": "stream",
          "name": "stdout",
          "text": [
            "False\n"
          ]
        }
      ]
    },
    {
      "cell_type": "markdown",
      "source": [
        "16.Write a code to create a set with the elements 'a', 'b', 'c' and print it.\n",
        "\n"
      ],
      "metadata": {
        "id": "GCR6VxfKguZG"
      }
    },
    {
      "cell_type": "code",
      "metadata": {
        "colab": {
          "base_uri": "https://localhost:8080/"
        },
        "id": "91763c82",
        "outputId": "5f7c3a72-8548-41a3-a0e5-0dfa1380cc0b"
      },
      "source": [
        "# Create a set with the elements 'a', 'b', 'c' and print it.\n",
        "my_set = {'a', 'b', 'c'}\n",
        "print(my_set)"
      ],
      "execution_count": 48,
      "outputs": [
        {
          "output_type": "stream",
          "name": "stdout",
          "text": [
            "{'b', 'a', 'c'}\n"
          ]
        }
      ]
    },
    {
      "cell_type": "markdown",
      "source": [
        "17.Write a code to clear all elements from the set {1, 2, 3, 4, 5}.\n",
        "\n"
      ],
      "metadata": {
        "id": "BlazLBM5gxZV"
      }
    },
    {
      "cell_type": "code",
      "metadata": {
        "colab": {
          "base_uri": "https://localhost:8080/"
        },
        "id": "768c335e",
        "outputId": "030d1a94-eb78-4d1a-ac0b-b8eb456ce0f3"
      },
      "source": [
        "# Clear all elements from the set {1, 2, 3, 4, 5}.\n",
        "number_set = {1, 2, 3, 4, 5}\n",
        "number_set.clear()\n",
        "print(number_set)"
      ],
      "execution_count": 49,
      "outputs": [
        {
          "output_type": "stream",
          "name": "stdout",
          "text": [
            "set()\n"
          ]
        }
      ]
    },
    {
      "cell_type": "markdown",
      "source": [
        "18.Write a code to remove the element 4 from the set {1, 2, 3, 4}.\n",
        "\n"
      ],
      "metadata": {
        "id": "EBzyb5avgzUa"
      }
    },
    {
      "cell_type": "code",
      "metadata": {
        "colab": {
          "base_uri": "https://localhost:8080/"
        },
        "id": "a25d4750",
        "outputId": "60f6da78-93a1-4383-c768-969747509afb"
      },
      "source": [
        "# Remove the element 4 from the set {1, 2, 3, 4}.\n",
        "set_to_modify = {1, 2, 3, 4}\n",
        "set_to_modify.remove(4)\n",
        "print(set_to_modify)"
      ],
      "execution_count": 50,
      "outputs": [
        {
          "output_type": "stream",
          "name": "stdout",
          "text": [
            "{1, 2, 3}\n"
          ]
        }
      ]
    },
    {
      "cell_type": "markdown",
      "source": [
        "19.Write a code to find the union of two sets {1, 2, 3} and {3, 4, 5}.\n",
        "\n"
      ],
      "metadata": {
        "id": "WNPKlohFg1Ik"
      }
    },
    {
      "cell_type": "code",
      "metadata": {
        "colab": {
          "base_uri": "https://localhost:8080/"
        },
        "id": "2448c023",
        "outputId": "0146aaf0-1563-4307-ce45-edd4e06dfa01"
      },
      "source": [
        "# Find the intersection of two sets {1, 2, 3} and {2, 3, 4}\n",
        "set3 = {1, 2, 3}\n",
        "set4 = {2, 3, 4}\n",
        "intersection_set = set3.intersection(set4)\n",
        "print(intersection_set)"
      ],
      "execution_count": 51,
      "outputs": [
        {
          "output_type": "stream",
          "name": "stdout",
          "text": [
            "{2, 3}\n"
          ]
        }
      ]
    },
    {
      "cell_type": "markdown",
      "source": [
        "20.Write a code to find the intersection of two sets {1, 2, 3} and {2, 3, 4}"
      ],
      "metadata": {
        "id": "yb__spPdg2dm"
      }
    },
    {
      "cell_type": "code",
      "metadata": {
        "colab": {
          "base_uri": "https://localhost:8080/"
        },
        "id": "05cf84de",
        "outputId": "bf48c728-a28e-434c-8c05-56872dcfe078"
      },
      "source": [
        "# Find the union of two sets {1, 2, 3} and {3, 4, 5}.\n",
        "set1 = {1, 2, 3}\n",
        "set2 = {3, 4, 5}\n",
        "union_set = set1.union(set2)\n",
        "print(union_set)"
      ],
      "execution_count": 52,
      "outputs": [
        {
          "output_type": "stream",
          "name": "stdout",
          "text": [
            "{1, 2, 3, 4, 5}\n"
          ]
        }
      ]
    },
    {
      "cell_type": "markdown",
      "source": [
        "21. Write a code to create a dictionary with the keys \"name\", \"age\", and \"city\", and print it.\n",
        "\n"
      ],
      "metadata": {
        "id": "lRYzGt7FhjMW"
      }
    },
    {
      "cell_type": "code",
      "metadata": {
        "colab": {
          "base_uri": "https://localhost:8080/"
        },
        "id": "2b97e2f3",
        "outputId": "c6c7236a-b1ba-4626-9289-68cbb973df93"
      },
      "source": [
        "my_dictionary = {\"name\": \"David\", \"age\": 40, \"city\": \"San Francisco\"}\n",
        "print(my_dictionary)"
      ],
      "execution_count": 53,
      "outputs": [
        {
          "output_type": "stream",
          "name": "stdout",
          "text": [
            "{'name': 'David', 'age': 40, 'city': 'San Francisco'}\n"
          ]
        }
      ]
    },
    {
      "cell_type": "markdown",
      "source": [
        "22. Write a code to add a new key-value pair \"country\": \"USA\" to the dictionary {'name': 'John', 'age': 25}.\n",
        "\n"
      ],
      "metadata": {
        "id": "O4ABPFVliPgL"
      }
    },
    {
      "cell_type": "code",
      "metadata": {
        "colab": {
          "base_uri": "https://localhost:8080/"
        },
        "id": "4da5e339",
        "outputId": "8b4d10a8-4f24-4b69-976c-0409049f6f00"
      },
      "source": [
        "existing_dict = {'name': 'John', 'age': 25}\n",
        "existing_dict[\"country\"] = \"USA\"\n",
        "print(existing_dict)"
      ],
      "execution_count": 54,
      "outputs": [
        {
          "output_type": "stream",
          "name": "stdout",
          "text": [
            "{'name': 'John', 'age': 25, 'country': 'USA'}\n"
          ]
        }
      ]
    },
    {
      "cell_type": "markdown",
      "source": [
        "23. Write a code to access the value associated with the key \"name\" in the dictionary {'name': 'Alice', 'age': 30}.\n",
        "\n",
        "\n"
      ],
      "metadata": {
        "id": "iNzflihkiS6_"
      }
    },
    {
      "cell_type": "code",
      "metadata": {
        "colab": {
          "base_uri": "https://localhost:8080/"
        },
        "id": "ffd3e7dc",
        "outputId": "9bd07329-0b4b-4479-f263-608d0362eef1"
      },
      "source": [
        "another_dict = {'name': 'Alice', 'age': 30}\n",
        "name_value = another_dict[\"name\"]\n",
        "print(name_value)"
      ],
      "execution_count": 55,
      "outputs": [
        {
          "output_type": "stream",
          "name": "stdout",
          "text": [
            "Alice\n"
          ]
        }
      ]
    },
    {
      "cell_type": "markdown",
      "source": [
        "\n",
        "24. Write a code to remove the key \"age\" from the dictionary {'name': 'Bob', 'age': 22, 'city': 'New York'}.\n",
        "\n"
      ],
      "metadata": {
        "id": "dD7tkmj8iWU0"
      }
    },
    {
      "cell_type": "code",
      "metadata": {
        "colab": {
          "base_uri": "https://localhost:8080/"
        },
        "id": "0630adac",
        "outputId": "5e186114-b36a-4f8c-cdf9-d5c7fc824428"
      },
      "source": [
        "dict_to_modify = {'name': 'Bob', 'age': 22, 'city': 'New York'}\n",
        "del dict_to_modify[\"age\"]\n",
        "print(dict_to_modify)"
      ],
      "execution_count": 56,
      "outputs": [
        {
          "output_type": "stream",
          "name": "stdout",
          "text": [
            "{'name': 'Bob', 'city': 'New York'}\n"
          ]
        }
      ]
    },
    {
      "cell_type": "markdown",
      "source": [
        "25. Write a code to check if the key \"city\" exists in the dictionary {'name': 'Alice', 'city': 'Paris'}.\n",
        "\n"
      ],
      "metadata": {
        "id": "uEkugstEiYXj"
      }
    },
    {
      "cell_type": "code",
      "metadata": {
        "colab": {
          "base_uri": "https://localhost:8080/"
        },
        "id": "6618bdc6",
        "outputId": "77f12889-54e9-4aa9-b613-64b6102c7ec5"
      },
      "source": [
        "check_dict = {'name': 'Alice', 'city': 'Paris'}\n",
        "city_exists = \"city\" in check_dict\n",
        "print(city_exists)"
      ],
      "execution_count": 57,
      "outputs": [
        {
          "output_type": "stream",
          "name": "stdout",
          "text": [
            "True\n"
          ]
        }
      ]
    },
    {
      "cell_type": "markdown",
      "source": [
        "26. Write a code to create a list, a tuple, and a dictionary, and print them all.\n",
        "\n"
      ],
      "metadata": {
        "id": "dMzv1Lk8ia6D"
      }
    },
    {
      "cell_type": "code",
      "metadata": {
        "colab": {
          "base_uri": "https://localhost:8080/"
        },
        "id": "61438c0f",
        "outputId": "38ff525f-5557-469b-96dc-218661989ad0"
      },
      "source": [
        "my_list = [10, 20, 30]\n",
        "my_tuple = (\"apple\", \"banana\", \"cherry\")\n",
        "my_dictionary = {\"key1\": \"value1\", \"key2\": \"value2\"}\n",
        "\n",
        "print(my_list)\n",
        "print(my_tuple)\n",
        "print(my_dictionary)"
      ],
      "execution_count": 58,
      "outputs": [
        {
          "output_type": "stream",
          "name": "stdout",
          "text": [
            "[10, 20, 30]\n",
            "('apple', 'banana', 'cherry')\n",
            "{'key1': 'value1', 'key2': 'value2'}\n"
          ]
        }
      ]
    },
    {
      "cell_type": "markdown",
      "source": [
        "\n",
        "27. Write a code to create a list of 5 random numbers between 1 and 100, sort it in ascending order, and print the\n",
        "result.(replaced)\n",
        "\n",
        "\n"
      ],
      "metadata": {
        "id": "HpxwW2i-iekg"
      }
    },
    {
      "cell_type": "code",
      "metadata": {
        "colab": {
          "base_uri": "https://localhost:8080/"
        },
        "id": "303725e6",
        "outputId": "d0812051-47dd-409a-9a46-980dc2e5a16e"
      },
      "source": [
        "import random\n",
        "\n",
        "random_numbers_list = [random.randint(1, 100) for _ in range(5)]\n",
        "random_numbers_list.sort()\n",
        "print(random_numbers_list)"
      ],
      "execution_count": 59,
      "outputs": [
        {
          "output_type": "stream",
          "name": "stdout",
          "text": [
            "[27, 35, 74, 94, 96]\n"
          ]
        }
      ]
    },
    {
      "cell_type": "markdown",
      "source": [
        "28. Write a code to create a list with strings and print the element at the third index.\n"
      ],
      "metadata": {
        "id": "xR9ot2loigMc"
      }
    },
    {
      "cell_type": "code",
      "metadata": {
        "colab": {
          "base_uri": "https://localhost:8080/"
        },
        "id": "d8a7d9b1",
        "outputId": "283c723a-b0ab-4214-d22d-0ef0ce6bd90d"
      },
      "source": [
        "string_list = [\"red\", \"green\", \"blue\", \"yellow\", \"orange\"]\n",
        "third_element = string_list[2] # Index 2 is the third element\n",
        "print(third_element)"
      ],
      "execution_count": 60,
      "outputs": [
        {
          "output_type": "stream",
          "name": "stdout",
          "text": [
            "blue\n"
          ]
        }
      ]
    },
    {
      "cell_type": "markdown",
      "source": [
        "29. Write a code to combine two dictionaries into one and print the result.\n",
        "\n"
      ],
      "metadata": {
        "id": "bD0je393ilbr"
      }
    },
    {
      "cell_type": "code",
      "metadata": {
        "colab": {
          "base_uri": "https://localhost:8080/"
        },
        "id": "ca4c8518",
        "outputId": "8177844f-8143-475c-b325-0d8750f8877e"
      },
      "source": [
        "dict_one = {\"a\": 1, \"b\": 2}\n",
        "dict_two = {\"c\": 3, \"d\": 4}\n",
        "combined_dictionary = {**dict_one, **dict_two}\n",
        "print(combined_dictionary)"
      ],
      "execution_count": 61,
      "outputs": [
        {
          "output_type": "stream",
          "name": "stdout",
          "text": [
            "{'a': 1, 'b': 2, 'c': 3, 'd': 4}\n"
          ]
        }
      ]
    },
    {
      "cell_type": "markdown",
      "source": [
        "30. Write a code to convert a list of strings into a set."
      ],
      "metadata": {
        "id": "y1t1dsnOinmg"
      }
    },
    {
      "cell_type": "code",
      "metadata": {
        "colab": {
          "base_uri": "https://localhost:8080/"
        },
        "id": "96b4153c",
        "outputId": "ea6a9d8c-40c1-40d8-b506-fcebb12c01da"
      },
      "source": [
        "list_of_strings = [\"hello\", \"world\", \"hello\", \"python\"]\n",
        "set_of_strings = set(list_of_strings)\n",
        "print(set_of_strings)"
      ],
      "execution_count": 62,
      "outputs": [
        {
          "output_type": "stream",
          "name": "stdout",
          "text": [
            "{'python', 'world', 'hello'}\n"
          ]
        }
      ]
    }
  ]
}