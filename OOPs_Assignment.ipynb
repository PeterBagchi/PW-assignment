{
  "nbformat": 4,
  "nbformat_minor": 0,
  "metadata": {
    "colab": {
      "provenance": []
    },
    "kernelspec": {
      "name": "python3",
      "display_name": "Python 3"
    },
    "language_info": {
      "name": "python"
    }
  },
  "cells": [
    {
      "cell_type": "markdown",
      "metadata": {
        "id": "30651142"
      },
      "source": [
        "## **Python OOPs Questions**\n",
        "\n",
        "**1. What is Object-Oriented Programming (OOP)?**\n",
        "\n",
        "Object-Oriented Programming (OOP) is a programming paradigm based on the concept of \"objects\", which can contain data and code that operates on that data. It aims to organize code into reusable and modular units.\n",
        "\n",
        "**2. What is a class in OOP?**\n",
        "\n",
        "A class is a blueprint or a template for creating objects. It defines the attributes (data) and methods (functions) that objects of that class will have.\n",
        "\n",
        "**3. What is an object in OOP?**\n",
        "\n",
        "An object is an instance of a class. It is a concrete realization of the blueprint defined by the class, with its own unique set of attribute values.\n",
        "\n",
        "**4. What is the difference between abstraction and encapsulation?**\n",
        "\n",
        "*   **Abstraction:** Hiding complex implementation details and showing only the essential features of an object. It focuses on \"what\" an object does rather than \"how\" it does it.\n",
        "*   **Encapsulation:** Bundling data (attributes) and the methods that operate on that data within a single unit (a class). It helps to protect the data from external access and modification.\n",
        "\n",
        "**5. What are dunder methods in Python?**\n",
        "\n",
        "Dunder methods (double underscore methods), also known as magic methods, are special methods in Python with names starting and ending with double underscores (e.g., `__init__`, `__str__`). They are invoked automatically by Python in response to specific events or operations.\n",
        "\n",
        "**6. Explain the concept of inheritance in OOP**\n",
        "\n",
        "Inheritance is a mechanism where a new class (subclass or derived class) inherits attributes and methods from an existing class (superclass or base class). This promotes code reusability and establishes a hierarchical relationship between classes.\n",
        "\n",
        "**7. What is polymorphism in OOP?**\n",
        "\n",
        "Polymorphism means \"many forms.\" In OOP, it refers to the ability of objects of different classes to respond to the same method call in their own specific ways. This can be achieved through method overriding and method overloading (though true method overloading as in some other languages is not a built-in feature of Python in the same way).\n",
        "\n",
        "**8. How is encapsulation achieved in Python?**\n",
        "\n",
        "Encapsulation in Python is achieved primarily through conventions. While Python doesn't have strict access modifiers like `private` or `public`, you can indicate that an attribute or method is intended to be private by prefixing its name with a single underscore (`_`) or two underscores (`__`) for name mangling.\n",
        "\n",
        "**9. What is a constructor in Python?**\n",
        "\n",
        "In Python, the constructor is the `__init__` method. It is a special method that is automatically called when an object of a class is created. Its purpose is to initialize the object's attributes.\n",
        "\n",
        "**10. What are class and static methods in Python?**\n",
        "\n",
        "*   **Class methods:** Methods that are bound to the class and receive the class as the first argument (conventionally named `cls`). They are often used to create factory methods or methods that operate on class-level data. They are defined using the `@classmethod` decorator.\n",
        "\n",
        "*   **Static methods:** Methods that are not bound to either the instance or the class. They are essentially regular functions defined within a class's namespace and do not receive an implicit first argument. They are defined using the `@staticmethod` decorator and are typically used for utility functions that relate to the class but don't need access to instance or class data.\n",
        "\n",
        "**11. What is method overloading in Python?**\n",
        "\n",
        "Python does not support true method overloading in the same way as languages like Java or C++. You cannot define multiple methods with the same name but different parameters within the same class. However, you can achieve similar behavior using default arguments, variable-length arguments (`*args`, `**kwargs`), or by checking the types of arguments within the method.\n",
        "\n",
        "**12. What is method overriding in OOP?**\n",
        "\n",
        "Method overriding is a concept in inheritance where a subclass provides its own implementation of a method that is already defined in its superclass. This allows the subclass to specialize the behavior of the inherited method.\n",
        "\n",
        "**13. What is a property decorator in Python?**\n",
        "\n",
        "The `@property` decorator is a built-in Python decorator that provides a way to define methods that can be accessed like attributes. It allows you to add logic (e.g., validation, computation) to attribute access (getting, setting, deleting) without changing the way the attribute is accessed from outside the class.\n",
        "\n",
        "**14. Why is polymorphism important in OOP?**\n",
        "\n",
        "Polymorphism is important because it allows you to write more flexible and reusable code. It enables you to treat objects of different classes in a uniform way through a common interface, making your code easier to extend and maintain.\n",
        "\n",
        "**15. What is an abstract class in Python?**\n",
        "\n",
        "An abstract class is a class that cannot be instantiated directly. It is designed to be a blueprint for other classes and may contain abstract methods (methods declared but without an implementation). Abstract classes are used to define a common interface for a set of related classes. In Python, you can create abstract classes using the `abc` module (`ABC` and `@abstractmethod`).\n",
        "\n",
        "**16. What are the advantages of OOP?**\n",
        "\n",
        "*   **Modularity:** Code is organized into objects, making it easier to understand and manage.\n",
        "*   **Reusability:** Inheritance allows you to reuse code from existing classes.\n",
        "*   **Maintainability:** Changes in one part of the code are less likely to affect other parts due to encapsulation.\n",
        "*   **Flexibility:** Polymorphism allows for more flexible and extensible code.\n",
        "\n",
        "**17. What is the difference between a class variable and an instance variable?**\n",
        "\n",
        "*   **Class variable:** A variable that is shared by all instances of a class. It is defined within the class but outside of any methods.\n",
        "*   **Instance variable:** A variable that is unique to each instance of a class. It is defined within the `__init__` method (or other instance methods) and is associated with a specific object.\n",
        "\n",
        "**18. What is multiple inheritance in Python?**\n",
        "\n",
        "Multiple inheritance is a feature in Python where a class can inherit from multiple parent classes. This allows a subclass to inherit attributes and methods from all its parent classes.\n",
        "\n",
        "**19. Explain the purpose of `__str__` and `__repr__` methods in Python**\n",
        "\n",
        "*   `__str__`: This method is used to provide a user-friendly string representation of an object. It is typically called by functions like `str()` and `print()`.\n",
        "*   `__repr__`: This method is used to provide an unambiguous string representation of an object, often used for debugging. It should ideally return a string that, if evaluated, would recreate the object. It is called by functions like `repr()` and in the interactive console.\n",
        "\n",
        "**20. What is the significance of the `super()` function in Python?**\n",
        "\n",
        "The `super()` function is used in subclasses to call methods from their superclass. It is commonly used in the `__init__` method of a subclass to call the superclass's `__init__` method and initialize the inherited attributes. It is also used to call overridden methods in the superclass.\n",
        "\n",
        "**21. What is the significance of the `__del__` method in Python?**\n",
        "\n",
        "The `__del__` method, also known as the destructor, is called when an object is about to be destroyed (garbage collected). It can be used to perform cleanup operations, such as closing files or releasing resources. However, its execution time is not guaranteed, and relying on it for critical cleanup is generally discouraged.\n",
        "\n",
        "**22. What is the difference between `@staticmethod` and `@classmethod` in Python?**\n",
        "\n",
        "*   `@staticmethod`: Does not receive an implicit first argument (neither `self` nor `cls`). It behaves like a regular function within the class's namespace.\n",
        "*   `@classmethod`: Receives the class itself as the first argument (`cls`). It is typically used for methods that operate on class-level data or create instances of the class (factory methods).\n",
        "\n",
        "**23. How does polymorphism work in Python with inheritance?**\n",
        "\n",
        "Polymorphism with inheritance in Python works through method overriding. When a subclass overrides a method from its superclass, an object of the subclass will execute its own version of the method when called, while an object of the superclass will execute the superclass's version. This allows you to treat objects of different classes derived from a common superclass in a uniform way.\n",
        "\n",
        "**24. What is method chaining in Python OOP?**\n",
        "\n",
        "Method chaining is a programming technique where multiple method calls are strung together on the same object in a single expression. This is possible when a method returns the object itself (`self`), allowing the next method call to be made on the returned object.\n",
        "\n",
        "**25. What is the purpose of the `__call__` method in Python?**\n",
        "\n",
        "The `__call__` method allows an instance of a class to be called as if it were a function. When an object with a `__call__` method is called using parentheses (`()`), the `__call__` method is executed. This can be useful for creating objects that behave like functions or for creating callable objects that maintain state."
      ]
    },
    {
      "cell_type": "markdown",
      "source": [
        "# **Practical Questions**"
      ],
      "metadata": {
        "id": "wn9H4JK05Yhr"
      }
    },
    {
      "cell_type": "markdown",
      "source": [
        "1. Create a parent class Animal with a method speak() that prints a generic message. Create a child class Dog\n",
        "that overrides the speak() method to print \"Bark!\".\n",
        "\n",
        "\n"
      ],
      "metadata": {
        "id": "NYi4wfCX1L6V"
      }
    },
    {
      "cell_type": "code",
      "metadata": {
        "colab": {
          "base_uri": "https://localhost:8080/"
        },
        "id": "6c0a2c96",
        "outputId": "c0bf2e7b-1f04-411f-83cf-f3843d887c48"
      },
      "source": [
        "class Animal:\n",
        "    def speak(self):\n",
        "        print(\"Generic animal sound\")\n",
        "\n",
        "class Dog(Animal):\n",
        "    def speak(self):\n",
        "        print(\"Bark!\")\n",
        "\n",
        "# Test cases\n",
        "animal = Animal()\n",
        "animal.speak()\n",
        "\n",
        "dog = Dog()\n",
        "dog.speak()"
      ],
      "execution_count": 1,
      "outputs": [
        {
          "output_type": "stream",
          "name": "stdout",
          "text": [
            "Generic animal sound\n",
            "Bark!\n"
          ]
        }
      ]
    },
    {
      "cell_type": "markdown",
      "source": [
        "2. Write a program to create an abstract class Shape with a method area(). Derive classes Circle and Rectangle\n",
        "from it and implement the area() method in both.\n",
        "\n",
        "\n"
      ],
      "metadata": {
        "id": "dADJaW9N1Oxd"
      }
    },
    {
      "cell_type": "code",
      "metadata": {
        "colab": {
          "base_uri": "https://localhost:8080/"
        },
        "id": "c43e2869",
        "outputId": "a679ca23-7d7c-47c2-e76b-db71be4b4266"
      },
      "source": [
        "\n",
        "from abc import ABC, abstractmethod\n",
        "\n",
        "class Shape(ABC):\n",
        "    @abstractmethod\n",
        "    def area(self):\n",
        "        pass\n",
        "\n",
        "class Circle(Shape):\n",
        "    def __init__(self, radius):\n",
        "        self.radius = radius\n",
        "\n",
        "    def area(self):\n",
        "        return 3.14 * self.radius * self.radius\n",
        "\n",
        "class Rectangle(Shape):\n",
        "    def __init__(self, length, width):\n",
        "        self.length = length\n",
        "        self.width = width\n",
        "\n",
        "    def area(self):\n",
        "        return self.length * self.width\n",
        "\n",
        "# Test cases\n",
        "circle = Circle(5)\n",
        "print(f\"Area of circle: {circle.area()}\")\n",
        "\n",
        "rectangle = Rectangle(4, 6)\n",
        "print(f\"Area of rectangle: {rectangle.area()}\")"
      ],
      "execution_count": 2,
      "outputs": [
        {
          "output_type": "stream",
          "name": "stdout",
          "text": [
            "Area of circle: 78.5\n",
            "Area of rectangle: 24\n"
          ]
        }
      ]
    },
    {
      "cell_type": "markdown",
      "source": [
        "3. Implement a multi-level inheritance scenario where a class Vehicle has an attribute type. Derive a class Car\n",
        "and further derive a class ElectricCar that adds a battery attribute.\n",
        "\n",
        "\n"
      ],
      "metadata": {
        "id": "6Ilmqx8Q1OgV"
      }
    },
    {
      "cell_type": "code",
      "metadata": {
        "colab": {
          "base_uri": "https://localhost:8080/"
        },
        "id": "a8771058",
        "outputId": "864db989-9e2a-4126-c44b-ab0bc0deffd6"
      },
      "source": [
        "\n",
        "class Vehicle:\n",
        "    def __init__(self, vehicle_type):\n",
        "        self.type = vehicle_type\n",
        "\n",
        "class Car(Vehicle):\n",
        "    def __init__(self, vehicle_type, model):\n",
        "        super().__init__(vehicle_type)\n",
        "        self.model = model\n",
        "\n",
        "class ElectricCar(Car):\n",
        "    def __init__(self, vehicle_type, model, battery_capacity):\n",
        "        super().__init__(vehicle_type, model)\n",
        "        self.battery = battery_capacity\n",
        "\n",
        "# Test case\n",
        "electric_car = ElectricCar(\"car\", \"Tesla Model S\", \"100 kWh\")\n",
        "print(f\"Vehicle Type: {electric_car.type}\")\n",
        "print(f\"Model: {electric_car.model}\")\n",
        "print(f\"Battery Capacity: {electric_car.battery}\")"
      ],
      "execution_count": 3,
      "outputs": [
        {
          "output_type": "stream",
          "name": "stdout",
          "text": [
            "Vehicle Type: car\n",
            "Model: Tesla Model S\n",
            "Battery Capacity: 100 kWh\n"
          ]
        }
      ]
    },
    {
      "cell_type": "markdown",
      "source": [
        "4. Demonstrate polymorphism by creating a base class Bird with a method fly(). Create two derived classes\n",
        "Sparrow and Penguin that override the fly() method.\n",
        "\n",
        "\n"
      ],
      "metadata": {
        "id": "Rl4ADTHo1N_n"
      }
    },
    {
      "cell_type": "code",
      "metadata": {
        "colab": {
          "base_uri": "https://localhost:8080/"
        },
        "id": "ec3a15b1",
        "outputId": "9a7fc25d-569d-4f8c-e065-b1578e212afe"
      },
      "source": [
        "\n",
        "class Bird:\n",
        "    def fly(self):\n",
        "        print(\"Bird flying\")\n",
        "\n",
        "class Sparrow(Bird):\n",
        "    def fly(self):\n",
        "        print(\"Sparrow flying high\")\n",
        "\n",
        "class Penguin(Bird):\n",
        "    def fly(self):\n",
        "        print(\"Penguin can't fly, it swims!\")\n",
        "\n",
        "# Test cases\n",
        "sparrow = Sparrow()\n",
        "sparrow.fly()\n",
        "\n",
        "penguin = Penguin()\n",
        "penguin.fly()"
      ],
      "execution_count": 4,
      "outputs": [
        {
          "output_type": "stream",
          "name": "stdout",
          "text": [
            "Sparrow flying high\n",
            "Penguin can't fly, it swims!\n"
          ]
        }
      ]
    },
    {
      "cell_type": "markdown",
      "source": [
        "5. Write a program to demonstrate encapsulation by creating a class BankAccount with private attributes\n",
        "balance and methods to deposit, withdraw, and check balance.\n",
        "\n",
        "\n"
      ],
      "metadata": {
        "id": "gm2XCIJg1Lrt"
      }
    },
    {
      "cell_type": "code",
      "metadata": {
        "colab": {
          "base_uri": "https://localhost:8080/"
        },
        "id": "0f4015f5",
        "outputId": "82025a25-4f6c-4941-bc19-b16e70124293"
      },
      "source": [
        "\n",
        "class BankAccount:\n",
        "    def __init__(self, initial_balance=0):\n",
        "        self.__balance = initial_balance # Using double underscore for name mangling\n",
        "\n",
        "    def deposit(self, amount):\n",
        "        if amount > 0:\n",
        "            self.__balance += amount\n",
        "            print(f\"Deposited: ${amount}. New balance: ${self.__balance}\")\n",
        "        else:\n",
        "            print(\"Deposit amount must be positive.\")\n",
        "\n",
        "    def withdraw(self, amount):\n",
        "        if amount > 0 and amount <= self.__balance:\n",
        "            self.__balance -= amount\n",
        "            print(f\"Withdrew: ${amount}. New balance: ${self.__balance}\")\n",
        "        else:\n",
        "            print(\"Invalid withdrawal amount or insufficient balance.\")\n",
        "\n",
        "    def check_balance(self):\n",
        "        print(f\"Current balance: ${self.__balance}\")\n",
        "\n",
        "# Test case\n",
        "account = BankAccount(1000)\n",
        "account.deposit(500)\n",
        "account.withdraw(200)\n",
        "account.check_balance()"
      ],
      "execution_count": 5,
      "outputs": [
        {
          "output_type": "stream",
          "name": "stdout",
          "text": [
            "Deposited: $500. New balance: $1500\n",
            "Withdrew: $200. New balance: $1300\n",
            "Current balance: $1300\n"
          ]
        }
      ]
    },
    {
      "cell_type": "markdown",
      "source": [
        "6. Demonstrate runtime polymorphism using a method play() in a base class Instrument. Derive classes Guitar\n",
        "and Piano that implement their own version of play().\n",
        "\n",
        "\n"
      ],
      "metadata": {
        "id": "YZdngFFM1Lky"
      }
    },
    {
      "cell_type": "code",
      "metadata": {
        "colab": {
          "base_uri": "https://localhost:8080/"
        },
        "id": "bbf37606",
        "outputId": "eeca70aa-e32d-47e9-8ba6-2e7b4f999813"
      },
      "source": [
        "\n",
        "class Instrument:\n",
        "    def play(self):\n",
        "        pass\n",
        "\n",
        "class Guitar(Instrument):\n",
        "    def play(self):\n",
        "        print(\"Strumming the guitar\")\n",
        "\n",
        "class Piano(Instrument):\n",
        "    def play(self):\n",
        "        print(\"Playing the piano keys\")\n",
        "\n",
        "# Test cases\n",
        "instruments = [Guitar(), Piano()]\n",
        "\n",
        "for instrument in instruments:\n",
        "    instrument.play()"
      ],
      "execution_count": 6,
      "outputs": [
        {
          "output_type": "stream",
          "name": "stdout",
          "text": [
            "Strumming the guitar\n",
            "Playing the piano keys\n"
          ]
        }
      ]
    },
    {
      "cell_type": "markdown",
      "source": [
        "7. Create a class MathOperations with a class method add_numbers() to add two numbers and a static\n",
        "method subtract_numbers() to subtract two numbers.\n",
        "\n",
        "\n"
      ],
      "metadata": {
        "id": "I-3XRMJP1LUo"
      }
    },
    {
      "cell_type": "code",
      "metadata": {
        "colab": {
          "base_uri": "https://localhost:8080/"
        },
        "id": "a7539a72",
        "outputId": "77494dbe-029b-4824-ea60-8867fc0669e8"
      },
      "source": [
        "\n",
        "class MathOperations:\n",
        "    @classmethod\n",
        "    def add_numbers(cls, x, y):\n",
        "        return x + y\n",
        "\n",
        "    @staticmethod\n",
        "    def subtract_numbers(x, y):\n",
        "        return x - y\n",
        "\n",
        "# Test cases\n",
        "print(f\"Sum: {MathOperations.add_numbers(10, 5)}\")\n",
        "print(f\"Difference: {MathOperations.subtract_numbers(10, 5)}\")"
      ],
      "execution_count": 7,
      "outputs": [
        {
          "output_type": "stream",
          "name": "stdout",
          "text": [
            "Sum: 15\n",
            "Difference: 5\n"
          ]
        }
      ]
    },
    {
      "cell_type": "markdown",
      "source": [
        "8. Implement a class Person with a class method to count the total number of persons created.\n",
        "\n",
        "\n"
      ],
      "metadata": {
        "id": "WAVHb4Br1LRU"
      }
    },
    {
      "cell_type": "code",
      "metadata": {
        "colab": {
          "base_uri": "https://localhost:8080/"
        },
        "id": "053d50ef",
        "outputId": "b704989d-ed49-44b3-c3c6-732b83bf6504"
      },
      "source": [
        "\n",
        "class Person:\n",
        "    count = 0 # Class variable\n",
        "\n",
        "    def __init__(self, name):\n",
        "        self.name = name\n",
        "        Person.count += 1 # Increment class variable\n",
        "\n",
        "    @classmethod\n",
        "    def get_person_count(cls):\n",
        "        return cls.count\n",
        "\n",
        "# Test cases\n",
        "person1 = Person(\"Alice\")\n",
        "person2 = Person(\"Bob\")\n",
        "\n",
        "print(f\"Total number of persons: {Person.get_person_count()}\")"
      ],
      "execution_count": 8,
      "outputs": [
        {
          "output_type": "stream",
          "name": "stdout",
          "text": [
            "Total number of persons: 2\n"
          ]
        }
      ]
    },
    {
      "cell_type": "markdown",
      "source": [
        "9. Write a class Fraction with attributes numerator and denominator. Override the str method to display the\n",
        "fraction as \"numerator/denominator\".\n"
      ],
      "metadata": {
        "id": "9x1fHbFC1Lxp"
      }
    },
    {
      "cell_type": "code",
      "metadata": {
        "colab": {
          "base_uri": "https://localhost:8080/"
        },
        "id": "c5f54982",
        "outputId": "907e8b06-12d9-4f9d-98c2-ed5def686ddc"
      },
      "source": [
        "\n",
        "class Fraction:\n",
        "    def __init__(self, numerator, denominator):\n",
        "        self.numerator = numerator\n",
        "        self.denominator = denominator\n",
        "\n",
        "    def __str__(self):\n",
        "        return f\"{self.numerator}/{self.denominator}\"\n",
        "\n",
        "# Test case\n",
        "fraction = Fraction(3, 4)\n",
        "print(fraction)"
      ],
      "execution_count": 9,
      "outputs": [
        {
          "output_type": "stream",
          "name": "stdout",
          "text": [
            "3/4\n"
          ]
        }
      ]
    },
    {
      "cell_type": "markdown",
      "source": [
        "10. Demonstrate operator overloading by creating a class Vector and overriding the add method to add two\n",
        "vectors.\n",
        "\n",
        "\n"
      ],
      "metadata": {
        "id": "FfUhUfcJ4Fth"
      }
    },
    {
      "cell_type": "code",
      "metadata": {
        "colab": {
          "base_uri": "https://localhost:8080/"
        },
        "id": "b46955f2",
        "outputId": "e7a0e87b-5d81-4cb6-d849-d91e194e2c23"
      },
      "source": [
        "\n",
        "class Vector:\n",
        "    def __init__(self, x, y):\n",
        "        self.x = x\n",
        "        self.y = y\n",
        "\n",
        "    def __add__(self, other):\n",
        "        if isinstance(other, Vector):\n",
        "            return Vector(self.x + other.x, self.y + other.y)\n",
        "        else:\n",
        "            raise TypeError(\"Can only add a Vector to another Vector\")\n",
        "\n",
        "    def __str__(self):\n",
        "        return f\"Vector({self.x}, {self.y})\"\n",
        "\n",
        "# Test cases\n",
        "v1 = Vector(2, 3)\n",
        "v2 = Vector(5, 1)\n",
        "v3 = v1 + v2\n",
        "print(v3)"
      ],
      "execution_count": 10,
      "outputs": [
        {
          "output_type": "stream",
          "name": "stdout",
          "text": [
            "Vector(7, 4)\n"
          ]
        }
      ]
    },
    {
      "cell_type": "markdown",
      "source": [
        "11. Create a class Person with attributes name and age. Add a method greet() that prints \"Hello, my name is\n",
        "{name} and I am {age} years old.\"\n",
        "\n",
        "\n"
      ],
      "metadata": {
        "id": "osHAeJyB4FVa"
      }
    },
    {
      "cell_type": "code",
      "metadata": {
        "colab": {
          "base_uri": "https://localhost:8080/"
        },
        "id": "cf3dadc2",
        "outputId": "9ae9fd06-6784-43cf-9d47-3aa150462a63"
      },
      "source": [
        "# Exercise 11\n",
        "class Person:\n",
        "    def __init__(self, name, age):\n",
        "        self.name = name\n",
        "        self.age = age\n",
        "\n",
        "    def greet(self):\n",
        "        print(f\"Hello, my name is {self.name} and I am {self.age} years old.\")\n",
        "\n",
        "# Test case\n",
        "person = Person(\"Alice\", 30)\n",
        "person.greet()"
      ],
      "execution_count": 11,
      "outputs": [
        {
          "output_type": "stream",
          "name": "stdout",
          "text": [
            "Hello, my name is Alice and I am 30 years old.\n"
          ]
        }
      ]
    },
    {
      "cell_type": "markdown",
      "source": [
        "12. Implement a class Student with attributes name and grades. Create a method average_grade() to compute\n",
        "the average of the grades.\n",
        "\n",
        "\n"
      ],
      "metadata": {
        "id": "eVxsuKkK4FNe"
      }
    },
    {
      "cell_type": "code",
      "metadata": {
        "colab": {
          "base_uri": "https://localhost:8080/"
        },
        "id": "0f3c2609",
        "outputId": "27c81966-d02d-4970-d0c6-ca87c00de9b8"
      },
      "source": [
        "\n",
        "class Student:\n",
        "    def __init__(self, name, grades):\n",
        "        self.name = name\n",
        "        self.grades = grades\n",
        "\n",
        "    def average_grade(self):\n",
        "        if not self.grades:\n",
        "            return 0\n",
        "        return sum(self.grades) / len(self.grades)\n",
        "\n",
        "# Test case\n",
        "student = Student(\"Bob\", [85, 90, 78, 92])\n",
        "print(f\"Average grade for {student.name}: {student.average_grade()}\")"
      ],
      "execution_count": 12,
      "outputs": [
        {
          "output_type": "stream",
          "name": "stdout",
          "text": [
            "Average grade for Bob: 86.25\n"
          ]
        }
      ]
    },
    {
      "cell_type": "markdown",
      "source": [
        "13. Create a class Rectangle with methods set_dimensions() to set the dimensions and area() to calculate the\n",
        "area.\n",
        "\n",
        "\n"
      ],
      "metadata": {
        "id": "aKDSifuS4E_U"
      }
    },
    {
      "cell_type": "code",
      "metadata": {
        "colab": {
          "base_uri": "https://localhost:8080/"
        },
        "id": "3887a9c3",
        "outputId": "bc56cd77-39a3-4f86-85ef-ffca0800c513"
      },
      "source": [
        "\n",
        "class Rectangle:\n",
        "    def __init__(self):\n",
        "        self.length = 0\n",
        "        self.width = 0\n",
        "\n",
        "    def set_dimensions(self, length, width):\n",
        "        self.length = length\n",
        "        self.width = width\n",
        "\n",
        "    def area(self):\n",
        "        return self.length * self.width\n",
        "\n",
        "# Test case\n",
        "rectangle = Rectangle()\n",
        "rectangle.set_dimensions(10, 5)\n",
        "print(f\"Area of the rectangle: {rectangle.area()}\")"
      ],
      "execution_count": 13,
      "outputs": [
        {
          "output_type": "stream",
          "name": "stdout",
          "text": [
            "Area of the rectangle: 50\n"
          ]
        }
      ]
    },
    {
      "cell_type": "markdown",
      "source": [
        "14. Create a class Employee with a method calculate_salary() that computes the salary based on hours worked\n",
        "and hourly rate. Create a derived class Manager that adds a bonus to the salary"
      ],
      "metadata": {
        "id": "YV6eMvL24IVN"
      }
    },
    {
      "cell_type": "code",
      "metadata": {
        "colab": {
          "base_uri": "https://localhost:8080/"
        },
        "id": "591d9456",
        "outputId": "a977d19b-cd44-4b79-f221-1986611c43f4"
      },
      "source": [
        "\n",
        "class Employee:\n",
        "    def __init__(self, hours_worked, hourly_rate):\n",
        "        self.hours_worked = hours_worked\n",
        "        self.hourly_rate = hourly_rate\n",
        "\n",
        "    def calculate_salary(self):\n",
        "        return self.hours_worked * self.hourly_rate\n",
        "\n",
        "class Manager(Employee):\n",
        "    def __init__(self, hours_worked, hourly_rate, bonus):\n",
        "        super().__init__(hours_worked, hourly_rate)\n",
        "        self.bonus = bonus\n",
        "\n",
        "    def calculate_salary(self):\n",
        "        base_salary = super().calculate_salary()\n",
        "        return base_salary + self.bonus\n",
        "\n",
        "# Test cases\n",
        "employee = Employee(40, 20)\n",
        "print(f\"Employee salary: ${employee.calculate_salary()}\")\n",
        "\n",
        "manager = Manager(40, 25, 500)\n",
        "print(f\"Manager salary: ${manager.calculate_salary()}\")"
      ],
      "execution_count": 14,
      "outputs": [
        {
          "output_type": "stream",
          "name": "stdout",
          "text": [
            "Employee salary: $800\n",
            "Manager salary: $1500\n"
          ]
        }
      ]
    },
    {
      "cell_type": "markdown",
      "source": [
        "15. Create a class Product with attributes name, price, and quantity. Implement a method total_price() that\n",
        "calculates the total price of the product.\n",
        "\n",
        "\n"
      ],
      "metadata": {
        "id": "SXFZqUk243qq"
      }
    },
    {
      "cell_type": "code",
      "metadata": {
        "colab": {
          "base_uri": "https://localhost:8080/"
        },
        "id": "9e9a7876",
        "outputId": "61eb5db7-a104-4a52-8782-50ed4bbe0a1e"
      },
      "source": [
        "\n",
        "class Product:\n",
        "    def __init__(self, name, price, quantity):\n",
        "        self.name = name\n",
        "        self.price = price\n",
        "        self.quantity = quantity\n",
        "\n",
        "    def total_price(self):\n",
        "        return self.price * self.quantity\n",
        "\n",
        "# Test case\n",
        "product = Product(\"Laptop\", 1200, 2)\n",
        "print(f\"Total price for {product.name}: ${product.total_price()}\")"
      ],
      "execution_count": 15,
      "outputs": [
        {
          "output_type": "stream",
          "name": "stdout",
          "text": [
            "Total price for Laptop: $2400\n"
          ]
        }
      ]
    },
    {
      "cell_type": "markdown",
      "source": [
        "16. Create a class Animal with an abstract method sound(). Create two derived classes Cow and Sheep that\n",
        "implement the sound() method.\n",
        "\n",
        "\n"
      ],
      "metadata": {
        "id": "2fM0rgoI43dr"
      }
    },
    {
      "cell_type": "code",
      "metadata": {
        "colab": {
          "base_uri": "https://localhost:8080/"
        },
        "id": "84eba0af",
        "outputId": "72b0c9ee-4902-46c3-8b4c-e0e679a04aac"
      },
      "source": [
        "\n",
        "from abc import ABC, abstractmethod\n",
        "\n",
        "class Animal(ABC):\n",
        "    @abstractmethod\n",
        "    def sound(self):\n",
        "        pass\n",
        "\n",
        "class Cow(Animal):\n",
        "    def sound(self):\n",
        "        return \"Moo\"\n",
        "\n",
        "class Sheep(Animal):\n",
        "    def sound(self):\n",
        "        return \"Baa\"\n",
        "\n",
        "# Test cases\n",
        "cow = Cow()\n",
        "sheep = Sheep()\n",
        "\n",
        "print(f\"Cow says: {cow.sound()}\")\n",
        "print(f\"Sheep says: {sheep.sound()}\")"
      ],
      "execution_count": 16,
      "outputs": [
        {
          "output_type": "stream",
          "name": "stdout",
          "text": [
            "Cow says: Moo\n",
            "Sheep says: Baa\n"
          ]
        }
      ]
    },
    {
      "cell_type": "markdown",
      "source": [
        "17. Create a class Book with attributes title, author, and year_published. Add a method get_book_info() that\n",
        "returns a formatted string with the book's details.\n",
        "\n",
        "\n"
      ],
      "metadata": {
        "id": "iirNfefZ43Tx"
      }
    },
    {
      "cell_type": "code",
      "metadata": {
        "colab": {
          "base_uri": "https://localhost:8080/"
        },
        "id": "857edc14",
        "outputId": "f2f80854-4734-4773-9a5f-2cfed5d4c6ac"
      },
      "source": [
        "\n",
        "class Book:\n",
        "    def __init__(self, title, author, year_published):\n",
        "        self.title = title\n",
        "        self.author = author\n",
        "        self.year_published = year_published\n",
        "\n",
        "    def get_book_info(self):\n",
        "        return f\"Title: {self.title}, Author: {self.author}, Year Published: {self.year_published}\"\n",
        "\n",
        "# Test case\n",
        "book = Book(\"The Hitchhiker's Guide to the Galaxy\", \"Douglas Adams\", 1979)\n",
        "print(book.get_book_info())"
      ],
      "execution_count": 17,
      "outputs": [
        {
          "output_type": "stream",
          "name": "stdout",
          "text": [
            "Title: The Hitchhiker's Guide to the Galaxy, Author: Douglas Adams, Year Published: 1979\n"
          ]
        }
      ]
    },
    {
      "cell_type": "markdown",
      "source": [
        "18. Create a class House with attributes address and price. Create a derived class Mansion that adds an\n",
        "attribute number_of_rooms."
      ],
      "metadata": {
        "id": "kpPYZoBc43GM"
      }
    },
    {
      "cell_type": "code",
      "metadata": {
        "colab": {
          "base_uri": "https://localhost:8080/"
        },
        "id": "5f7cbaad",
        "outputId": "dc686246-b377-4cfc-d4c4-4bda4eb5a440"
      },
      "source": [
        "\n",
        "class House:\n",
        "    def __init__(self, address, price):\n",
        "        self.address = address\n",
        "        self.price = price\n",
        "\n",
        "class Mansion(House):\n",
        "    def __init__(self, address, price, number_of_rooms):\n",
        "        super().__init__(address, price)\n",
        "        self.number_of_rooms = number_of_rooms\n",
        "\n",
        "# Test case\n",
        "mansion = Mansion(\"123 Luxury Lane\", 5000000, 20)\n",
        "print(f\"Mansion Address: {mansion.address}\")\n",
        "print(f\"Mansion Price: ${mansion.price}\")\n",
        "print(f\"Number of rooms: {mansion.number_of_rooms}\")"
      ],
      "execution_count": 18,
      "outputs": [
        {
          "output_type": "stream",
          "name": "stdout",
          "text": [
            "Mansion Address: 123 Luxury Lane\n",
            "Mansion Price: $5000000\n",
            "Number of rooms: 20\n"
          ]
        }
      ]
    }
  ]
}