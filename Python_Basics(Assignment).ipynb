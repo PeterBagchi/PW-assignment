{
  "nbformat": 4,
  "nbformat_minor": 0,
  "metadata": {
    "colab": {
      "provenance": []
    },
    "kernelspec": {
      "name": "python3",
      "display_name": "Python 3"
    },
    "language_info": {
      "name": "python"
    }
  },
  "cells": [
    {
      "cell_type": "markdown",
      "source": [
        "# Python Basics Assignment"
      ],
      "metadata": {
        "id": "jOLOeFxKzz48"
      }
    },
    {
      "cell_type": "markdown",
      "source": [
        "#Python Basics Questions"
      ],
      "metadata": {
        "id": "Q0YFKjbW2rmu"
      }
    },
    {
      "cell_type": "markdown",
      "source": [
        "1. What is Python, and why is it popular?\n",
        "\n",
        "    Python is a high-level, interpreted, object-oriented programming language known for its simple syntax and readability.\n",
        "\n",
        "    Reasons for popularity:\n",
        "    - Easy to learn and write\n",
        "    - Extensive standard libraries and frameworks\n",
        "    - Cross-platform compatibility\n",
        "    - Supports multiple paradigms (procedural, object-oriented, functional)\n",
        "    - Strong community support\n",
        "2. What is an interpreter in Python?\n",
        "\n",
        "  An interpreter is a program that reads and executes Python code line by line. Python’s interpreter converts code into machine-readable instructions at runtime.\n",
        "\n",
        "3. What are pre-defined keywords in Python?\n",
        "\n",
        "    Keywords are reserved words in Python that have predefined meanings and cannot be used as variable names.\n",
        "    Example: if, else, while, for, class, def, return, True, False, None\n",
        "\n",
        "4. Can keywords be used as variable names?\n",
        "\n",
        "    No, keywords cannot be used as variable names because they have predefined roles in Python.\n",
        "    Example:\n",
        "    if = 10  # Invalid\n",
        "5. What is mutability in Python?\n",
        "\n",
        "    Mutability refers to whether an object’s value can be changed after it’s created.\n",
        "    - Mutable: Objects that can be changed (e.g., lists, dictionaries)\n",
        "    - Immutable: Objects that cannot be changed (e.g., tuples, strings)\n",
        "\n",
        "6. Why are lists mutable, but tuples are immutable?\n",
        "\n",
        "    Lists are designed for dynamic data storage; hence, they allow modifications (adding, removing, updating elements).\n",
        "    Tuples are meant for fixed data collections, providing faster performance and making them hashable (usable as dictionary keys).\n",
        "\n",
        "7. What is the difference between '==' and 'is' operators in Python?\n",
        "\n",
        "    '==' compares values of two objects.\n",
        "    'is' checks if two objects refer to the same memory location.\n",
        "    Example:\n",
        "    a = [1, 2]\n",
        "    b = [1, 2]\n",
        "    print(a == b)  # True\n",
        "    print(a is b)  # False\n",
        "8. What are logical operators in Python?\n",
        "\n",
        "    Logical operators are used to combine conditional statements:\n",
        "    - and → Returns True if both conditions are true\n",
        "    - or → Returns True if at least one condition is true\n",
        "    - not → Reverses the result\n",
        "\n",
        "9. What is type casting in Python?\n",
        "\n",
        "    Type casting converts one data type into another.\n",
        "    Example:\n",
        "    x = '10'\n",
        "    y = int(x)  # Explicit type casting\n",
        "\n",
        "10. What is the difference between implicit and explicit type casting?\n",
        "\n",
        "    Implicit casting: Python automatically converts data types.\n",
        "\n",
        "    Example:\n",
        "\n",
        "    x = 5\n",
        "\n",
        "    y = 2.0\n",
        "\n",
        "    result = x + y    # Implicitly converts x to float\n",
        "\n",
        "    Explicit casting: The programmer manually converts data types using int(), float(), str().\n",
        "\n",
        "11. What is the purpose of conditional statements in Python?\n",
        "\n",
        "      Conditional statements control the flow of execution based on conditions, allowing decision-making using if, elif, and else.\n",
        "\n",
        "12. How does the elif statement work?\n",
        "\n",
        "      elif (else if) checks another condition if the previous if statement is false.\n",
        "      Example:\n",
        "      x = 10\n",
        "      if x > 20:\n",
        "          print('Greater than 20')\n",
        "      elif x == 10:\n",
        "          print('Equal to 10')\n",
        "      else:\n",
        "          print('Less than 10')\n",
        "13. What is the difference between for and while loops?\n",
        "\n",
        "  - for loop: Iterates over a sequence (known range or iterable).\n",
        "  - while loop: Repeats until a condition becomes false (condition-based).\n",
        "\n",
        "14. Describe a scenario where a while loop is more suitable than a for loop.\n",
        "\n",
        "    When the number of iterations is unknown beforehand.\n",
        "    Example:\n",
        "    password = ''\n",
        "    while password != '1234':\n",
        "        password = input('Enter password: ')\n",
        "    print('Access granted')\n"
      ],
      "metadata": {
        "id": "eoRtOvfL0EQC"
      }
    },
    {
      "cell_type": "markdown",
      "source": [
        "# Practical Questions"
      ],
      "metadata": {
        "id": "Dt-XDVid0Aa2"
      }
    },
    {
      "cell_type": "markdown",
      "metadata": {
        "id": "aa4333ea"
      },
      "source": [
        "1. Write a Python program to print \"Hello, World!y"
      ]
    },
    {
      "cell_type": "code",
      "metadata": {
        "colab": {
          "base_uri": "https://localhost:8080/"
        },
        "id": "746ee4eb",
        "outputId": "e8057b17-c8f4-47ab-c53b-b110ed7fe3a4"
      },
      "source": [
        "print(\"Hello, World!\")"
      ],
      "execution_count": null,
      "outputs": [
        {
          "output_type": "stream",
          "name": "stdout",
          "text": [
            "Hello, World!\n"
          ]
        }
      ]
    },
    {
      "cell_type": "markdown",
      "source": [
        "2. Write a Python program that displays your name and age8"
      ],
      "metadata": {
        "id": "Teq5ecq23-FJ"
      }
    },
    {
      "cell_type": "code",
      "metadata": {
        "colab": {
          "base_uri": "https://localhost:8080/"
        },
        "id": "498f4ab7",
        "outputId": "0ddce1f3-2415-4673-8f83-35f038558b71"
      },
      "source": [
        "name = \"Peter Bagchi\"\n",
        "age = 25\n",
        "print(f\"My name is {name} and I am {age} years old.\")"
      ],
      "execution_count": null,
      "outputs": [
        {
          "metadata": {
            "tags": null
          },
          "name": "stdout",
          "output_type": "stream",
          "text": [
            "My name is Peter Bagchi and I am 25 years old.\n"
          ]
        }
      ]
    },
    {
      "cell_type": "markdown",
      "metadata": {
        "id": "1cd1f120"
      },
      "source": [
        "3.Write code to print all the pre-defined keywords in Python using the keyword librarys.\n"
      ]
    },
    {
      "cell_type": "code",
      "metadata": {
        "colab": {
          "base_uri": "https://localhost:8080/"
        },
        "id": "e40b920f",
        "outputId": "aa28c409-d574-4586-cc78-507871cdc089"
      },
      "source": [
        "import keyword\n",
        "print(keyword.kwlist)"
      ],
      "execution_count": null,
      "outputs": [
        {
          "output_type": "stream",
          "name": "stdout",
          "text": [
            "['False', 'None', 'True', 'and', 'as', 'assert', 'async', 'await', 'break', 'class', 'continue', 'def', 'del', 'elif', 'else', 'except', 'finally', 'for', 'from', 'global', 'if', 'import', 'in', 'is', 'lambda', 'nonlocal', 'not', 'or', 'pass', 'raise', 'return', 'try', 'while', 'with', 'yield']\n"
          ]
        }
      ]
    },
    {
      "cell_type": "markdown",
      "metadata": {
        "id": "539aaa2e"
      },
      "source": [
        "4.Write a program that checks if a given word is a Python keyword.  "
      ]
    },
    {
      "cell_type": "code",
      "metadata": {
        "colab": {
          "base_uri": "https://localhost:8080/"
        },
        "id": "17a04bdd",
        "outputId": "bc7df7f9-00cf-4150-adca-8a68ce41d890"
      },
      "source": [
        "word_to_check = \"for\"\n",
        "is_it_a_keyword = keyword.iskeyword(word_to_check)\n",
        "print(f\"Is '{word_to_check}' a keyword? {is_it_a_keyword}\")\n",
        "\n",
        "word_to_check = \"my_variable\"\n",
        "is_it_a_keyword = keyword.iskeyword(word_to_check)\n",
        "print(f\"Is '{word_to_check}' a keyword? {is_it_a_keyword}\")"
      ],
      "execution_count": null,
      "outputs": [
        {
          "output_type": "stream",
          "name": "stdout",
          "text": [
            "Is 'for' a keyword? True\n",
            "Is 'my_variable' a keyword? False\n"
          ]
        }
      ]
    },
    {
      "cell_type": "markdown",
      "metadata": {
        "id": "06fc3553"
      },
      "source": [
        " 5.Create a list and tuple in Python, and demonstrate how attempting to change an element works differently\n",
        "for each."
      ]
    },
    {
      "cell_type": "code",
      "metadata": {
        "colab": {
          "base_uri": "https://localhost:8080/"
        },
        "id": "a2c0b8ce",
        "outputId": "a54dab37-1ff1-46f5-d92a-dc1c17d017c2"
      },
      "source": [
        "# Demonstrate mutable data type (list)\n",
        "my_list = [1, 2, 3]\n",
        "print(f\"Original list: {my_list}\")\n",
        "my_list[0] = 100\n",
        "print(f\"Modified list: {my_list}\")\n",
        "\n",
        "# Demonstrate immutable data type (tuple)\n",
        "my_tuple = (1, 2, 3)\n",
        "print(f\"Original tuple: {my_tuple}\")\n",
        "try:\n",
        "  my_tuple[0] = 100\n",
        "except TypeError as e:\n",
        "  print(f\"Error trying to modify tuple: {e}\")"
      ],
      "execution_count": null,
      "outputs": [
        {
          "output_type": "stream",
          "name": "stdout",
          "text": [
            "Original list: [1, 2, 3]\n",
            "Modified list: [100, 2, 3]\n",
            "Original tuple: (1, 2, 3)\n",
            "Error trying to modify tuple: 'tuple' object does not support item assignment\n"
          ]
        }
      ]
    },
    {
      "cell_type": "markdown",
      "metadata": {
        "id": "a9f63105"
      },
      "source": [
        "6. Write a function to demonstrate the behavior of mutable and immutable arguments.\n",
        "\n"
      ]
    },
    {
      "cell_type": "code",
      "metadata": {
        "colab": {
          "base_uri": "https://localhost:8080/"
        },
        "id": "20200889",
        "outputId": "06a1eef3-136d-4019-a8be-47d138cdc277"
      },
      "source": [
        "# Demonstrate mutable function argument (list)\n",
        "def modify_list(input_list):\n",
        "  input_list.append(4)\n",
        "  print(f\"Inside function (list): {input_list}\")\n",
        "\n",
        "original_list = [1, 2, 3]\n",
        "print(f\"Before function call (list): {original_list}\")\n",
        "modify_list(original_list)\n",
        "print(f\"After function call (list): {original_list}\")\n",
        "\n",
        "# Demonstrate immutable function argument (integer)\n",
        "def modify_integer(input_int):\n",
        "  input_int += 10\n",
        "  print(f\"Inside function (integer): {input_int}\")\n",
        "\n",
        "original_integer = 5\n",
        "print(f\"Before function call (integer): {original_integer}\")\n",
        "modify_integer(original_integer)\n",
        "print(f\"After function call (integer): {original_integer}\")"
      ],
      "execution_count": null,
      "outputs": [
        {
          "output_type": "stream",
          "name": "stdout",
          "text": [
            "Before function call (list): [1, 2, 3]\n",
            "Inside function (list): [1, 2, 3, 4]\n",
            "After function call (list): [1, 2, 3, 4]\n",
            "Before function call (integer): 5\n",
            "Inside function (integer): 15\n",
            "After function call (integer): 5\n"
          ]
        }
      ]
    },
    {
      "cell_type": "markdown",
      "metadata": {
        "id": "5e1de147"
      },
      "source": [
        "7.Write a program that performs basic arithmetic operations on two user-input numbers."
      ]
    },
    {
      "cell_type": "code",
      "metadata": {
        "colab": {
          "base_uri": "https://localhost:8080/"
        },
        "id": "449fa8c2",
        "outputId": "4bf29dc8-7c32-4746-e22a-c29d48cccb1d"
      },
      "source": [
        "# Basic arithmetic operations\n",
        "num1 = 25\n",
        "num2 = 7\n",
        "\n",
        "addition_result = num1 + num2\n",
        "print(f\"Addition: {num1} + {num2} = {addition_result}\")\n",
        "\n",
        "subtraction_result = num1 - num2\n",
        "print(f\"Subtraction: {num1} - {num2} = {subtraction_result}\")\n",
        "\n",
        "multiplication_result = num1 * num2\n",
        "print(f\"Multiplication: {num1} * {num2} = {multiplication_result}\")\n",
        "\n",
        "division_result = num1 / num2\n",
        "print(f\"Division: {num1} / {num2} = {division_result}\")\n",
        "\n",
        "modulo_result = num1 % num2\n",
        "print(f\"Modulo: {num1} % {num2} = {modulo_result}\")"
      ],
      "execution_count": null,
      "outputs": [
        {
          "output_type": "stream",
          "name": "stdout",
          "text": [
            "Addition: 25 + 7 = 32\n",
            "Subtraction: 25 - 7 = 18\n",
            "Multiplication: 25 * 7 = 175\n",
            "Division: 25 / 7 = 3.5714285714285716\n",
            "Modulo: 25 % 7 = 4\n"
          ]
        }
      ]
    },
    {
      "cell_type": "markdown",
      "metadata": {
        "id": "b5cd08e6"
      },
      "source": [
        "8. Write a program to demonstrate the use of logical operators."
      ]
    },
    {
      "cell_type": "code",
      "metadata": {
        "colab": {
          "base_uri": "https://localhost:8080/"
        },
        "id": "e8bae3c7",
        "outputId": "5cf1aff8-6ede-4f9c-8112-e130d9a805bd"
      },
      "source": [
        "# Demonstrate logical operators\n",
        "x = True\n",
        "y = False\n",
        "\n",
        "print(f\"Logical AND: {x} and {y} = {x and y}\")\n",
        "print(f\"Logical OR: {x} or {y} = {x or y}\")\n",
        "print(f\"Logical NOT: not {x} = {not x}\")\n",
        "\n",
        "a = 10\n",
        "b = 20\n",
        "c = 5\n",
        "\n",
        "print(f\"Logical AND with expressions: ({a} > {c}) and ({b} > {a}) = {(a > c) and (b > a)}\")\n",
        "print(f\"Logical OR with expressions: ({a} > {b}) or ({c} < {a}) = {(a > b) or (c < a)}\")\n",
        "print(f\"Logical NOT with expression: not ({a} == {b}) = {not (a == b)}\")"
      ],
      "execution_count": null,
      "outputs": [
        {
          "output_type": "stream",
          "name": "stdout",
          "text": [
            "Logical AND: True and False = False\n",
            "Logical OR: True or False = True\n",
            "Logical NOT: not True = False\n",
            "Logical AND with expressions: (10 > 5) and (20 > 10) = True\n",
            "Logical OR with expressions: (10 > 20) or (5 < 10) = True\n",
            "Logical NOT with expression: not (10 == 20) = True\n"
          ]
        }
      ]
    },
    {
      "cell_type": "markdown",
      "metadata": {
        "id": "264d1ddc"
      },
      "source": [
        "9. Write a Python program to convert user input from string to integer, float, and boolean types."
      ]
    },
    {
      "cell_type": "code",
      "metadata": {
        "colab": {
          "base_uri": "https://localhost:8080/"
        },
        "id": "31a129cf",
        "outputId": "46ece28a-275c-4d8a-8153-e502e7f8fb50"
      },
      "source": [
        "# Convert user input to different data types\n",
        "user_input_str = input(\"Enter a number: \")\n",
        "\n",
        "try:\n",
        "    # Convert to integer\n",
        "    user_input_int = int(user_input_str)\n",
        "    print(f\"Input as integer: {user_input_int}, Type: {type(user_input_int)}\")\n",
        "except ValueError:\n",
        "    print(f\"Could not convert '{user_input_str}' to an integer.\")\n",
        "\n",
        "try:\n",
        "    # Convert to float\n",
        "    user_input_float = float(user_input_str)\n",
        "    print(f\"Input as float: {user_input_float}, Type: {type(user_input_float)}\")\n",
        "except ValueError:\n",
        "    print(f\"Could not convert '{user_input_str}' to a float.\")"
      ],
      "execution_count": null,
      "outputs": [
        {
          "output_type": "stream",
          "name": "stdout",
          "text": [
            "Enter a number: 25\n",
            "Input as integer: 25, Type: <class 'int'>\n",
            "Input as float: 25.0, Type: <class 'float'>\n"
          ]
        }
      ]
    },
    {
      "cell_type": "markdown",
      "source": [
        "10. Write code to demonstrate type casting with list elements"
      ],
      "metadata": {
        "id": "A_LdoB6AEkpS"
      }
    },
    {
      "cell_type": "code",
      "metadata": {
        "colab": {
          "base_uri": "https://localhost:8080/"
        },
        "id": "593469c9",
        "outputId": "51e322c6-747b-45e4-dfb2-bf051b94df2c"
      },
      "source": [
        "# Demonstrate type casting with list elements\n",
        "my_list_of_strings = [\"1\", \"2\", \"3\", \"4.5\"]\n",
        "print(f\"Original list of strings: {my_list_of_strings}\")\n",
        "\n",
        "# Convert list of strings to integers (where possible)\n",
        "list_of_integers = []\n",
        "for item in my_list_of_strings:\n",
        "    try:\n",
        "        list_of_integers.append(int(item))\n",
        "    except ValueError:\n",
        "        list_of_integers.append(item) # Keep original if conversion fails\n",
        "print(f\"List after attempting to convert to integers: {list_of_integers}\")\n",
        "\n",
        "# Convert list of strings to floats (where possible)\n",
        "list_of_floats = []\n",
        "for item in my_list_of_strings:\n",
        "    try:\n",
        "        list_of_floats.append(float(item))\n",
        "    except ValueError:\n",
        "        list_of_floats.append(item) # Keep original if conversion fails\n",
        "print(f\"List after attempting to convert to floats: {list_of_floats}\")"
      ],
      "execution_count": null,
      "outputs": [
        {
          "output_type": "stream",
          "name": "stdout",
          "text": [
            "Original list of strings: ['1', '2', '3', '4.5']\n",
            "List after attempting to convert to integers: [1, 2, 3, '4.5']\n",
            "List after attempting to convert to floats: [1.0, 2.0, 3.0, 4.5]\n"
          ]
        }
      ]
    },
    {
      "cell_type": "markdown",
      "metadata": {
        "id": "0787275e"
      },
      "source": [
        "11. Write a program that checks if a number is positive, negative, or zero."
      ]
    },
    {
      "cell_type": "code",
      "metadata": {
        "colab": {
          "base_uri": "https://localhost:8080/"
        },
        "id": "b1705a35",
        "outputId": "2f2d1003-3e43-4f40-902b-540b916aff91"
      },
      "source": [
        "# Check if a number is positive, negative, or zero\n",
        "number_to_check = float(input(\"Enter a number: \"))\n",
        "\n",
        "if number_to_check > 0:\n",
        "  print(f\"{number_to_check} is positive.\")\n",
        "elif number_to_check < 0:\n",
        "  print(f\"{number_to_check} is negative.\")\n",
        "else:\n",
        "  print(f\"{number_to_check} is zero.\")"
      ],
      "execution_count": null,
      "outputs": [
        {
          "output_type": "stream",
          "name": "stdout",
          "text": [
            "Enter a number: 25\n",
            "25.0 is positive.\n"
          ]
        }
      ]
    },
    {
      "cell_type": "markdown",
      "metadata": {
        "id": "4f26863b"
      },
      "source": [
        "12. Write a for loop to print numbers from 1 to 10."
      ]
    },
    {
      "cell_type": "code",
      "metadata": {
        "colab": {
          "base_uri": "https://localhost:8080/"
        },
        "id": "1f6d7af9",
        "outputId": "31ed9c60-6112-4535-94f6-edb36d8089d9"
      },
      "source": [
        "# For loop to print numbers from 1 to 10\n",
        "print(\"Numbers from 1 to 10:\")\n",
        "for i in range(1, 11):\n",
        "  print(i)"
      ],
      "execution_count": null,
      "outputs": [
        {
          "output_type": "stream",
          "name": "stdout",
          "text": [
            "Numbers from 1 to 10:\n",
            "1\n",
            "2\n",
            "3\n",
            "4\n",
            "5\n",
            "6\n",
            "7\n",
            "8\n",
            "9\n",
            "10\n"
          ]
        }
      ]
    },
    {
      "cell_type": "markdown",
      "metadata": {
        "id": "8892bc19"
      },
      "source": [
        "13. Write a Python program to find the sum of all even numbers between 1 and 50"
      ]
    },
    {
      "cell_type": "code",
      "metadata": {
        "colab": {
          "base_uri": "https://localhost:8080/"
        },
        "id": "27d31d06",
        "outputId": "6249e48a-423d-46d0-a8b2-3221125d6727"
      },
      "source": [
        "# Find the sum of all even numbers between 1 and 50\n",
        "sum_of_evens = 0\n",
        "for number in range(1, 51):\n",
        "  if number % 2 == 0:\n",
        "    sum_of_evens += number\n",
        "print(f\"The sum of even numbers between 1 and 50 is: {sum_of_evens}\")"
      ],
      "execution_count": null,
      "outputs": [
        {
          "output_type": "stream",
          "name": "stdout",
          "text": [
            "The sum of even numbers between 1 and 50 is: 650\n"
          ]
        }
      ]
    },
    {
      "cell_type": "markdown",
      "metadata": {
        "id": "7d882bd2"
      },
      "source": [
        "14. Write a program to reverse a string using a while loop."
      ]
    },
    {
      "cell_type": "code",
      "metadata": {
        "colab": {
          "base_uri": "https://localhost:8080/"
        },
        "id": "9bab8a1d",
        "outputId": "6365cb84-68cd-48b1-e4cb-d7f8572f72bc"
      },
      "source": [
        "# Reverse a string using a while loop\n",
        "input_string = input(\"Enter a string to reverse: \")\n",
        "reversed_string = \"\"\n",
        "index = len(input_string) - 1\n",
        "\n",
        "while index >= 0:\n",
        "  reversed_string += input_string[index]\n",
        "  index -= 1\n",
        "\n",
        "print(f\"The reversed string is: {reversed_string}\")"
      ],
      "execution_count": null,
      "outputs": [
        {
          "output_type": "stream",
          "name": "stdout",
          "text": [
            "Enter a string to reverse: peter\n",
            "The reversed string is: retep\n"
          ]
        }
      ]
    },
    {
      "cell_type": "markdown",
      "metadata": {
        "id": "82d4ae88"
      },
      "source": [
        "15. Write a Python program to calculate the factorial of a number provided by the user using a while loop."
      ]
    },
    {
      "cell_type": "code",
      "metadata": {
        "colab": {
          "base_uri": "https://localhost:8080/"
        },
        "id": "e24a9c73",
        "outputId": "7c26bc16-ca6b-450e-f884-fe39e06ec5a4"
      },
      "source": [
        "# Calculate the factorial of a number using a while loop\n",
        "num = int(input(\"Enter a non-negative integer to calculate its factorial: \"))\n",
        "\n",
        "if num < 0:\n",
        "  print(\"Factorial is not defined for negative numbers.\")\n",
        "elif num == 0:\n",
        "  print(\"The factorial of 0 is 1.\")\n",
        "else:\n",
        "  factorial = 1\n",
        "  i = 1\n",
        "  while i <= num:\n",
        "    factorial *= i\n",
        "    i += 1\n",
        "  print(f\"The factorial of {num} is {factorial}.\")"
      ],
      "execution_count": null,
      "outputs": [
        {
          "output_type": "stream",
          "name": "stdout",
          "text": [
            "Enter a non-negative integer to calculate its factorial: 48\n",
            "The factorial of 48 is 12413915592536072670862289047373375038521486354677760000000000.\n"
          ]
        }
      ]
    }
  ]
}